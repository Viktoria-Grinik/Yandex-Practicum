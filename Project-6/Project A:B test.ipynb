{
 "cells": [
  {
   "cell_type": "markdown",
   "metadata": {},
   "source": [
    "# Вы — аналитик крупного интернет-магазина. Вместе с отделом маркетинга вы подготовили список гипотез для увеличения выручки.\n",
    "Приоритизируйте гипотезы, запустите A/B-тест и проанализируйте результаты."
   ]
  },
  {
   "cell_type": "code",
   "execution_count": 1,
   "metadata": {},
   "outputs": [],
   "source": [
    "#Чтение данных\n",
    "import pandas as pd\n",
    "import datetime as dt\n",
    "import numpy as np\n",
    "import scipy.stats as stats\n",
    "import matplotlib.pyplot as plt\n",
    "from pandas.plotting import register_matplotlib_converters\n",
    "import warnings\n",
    "\n",
    "hypothesis = pd.read_csv('/datasets/hypothesis.csv', sep=',')\n",
    "orders = pd.read_csv('/datasets/orders.csv', sep=',') \n",
    "visitors = pd.read_csv('/datasets/visitors.csv', sep=',')  \n",
    "\n",
    "pd.options.display.max_colwidth = 150"
   ]
  },
  {
   "cell_type": "markdown",
   "metadata": {},
   "source": [
    "# Часть 1. Приоритизация гипотез."
   ]
  },
  {
   "cell_type": "markdown",
   "metadata": {},
   "source": [
    "Задачи:\n",
    "- Примените фреймворк ICE для приоритизации гипотез. Отсортируйте их по убыванию приоритета.\n",
    "- Примените фреймворк RICE для приоритизации гипотез. Отсортируйте их по убыванию приоритета.\n",
    "- Укажите, как изменилась приоритизация гипотез при применении RICE вместо ICE. Объясните, почему так произошло."
   ]
  },
  {
   "cell_type": "markdown",
   "metadata": {},
   "source": [
    "## Описание данных"
   ]
  },
  {
   "cell_type": "markdown",
   "metadata": {},
   "source": [
    "1 часть:\n",
    "Hypothesis\n",
    "- Hypothesis — краткое описание гипотезы;\n",
    "- Reach — охват пользователей по 10-балльной шкале;\n",
    "- Impact — влияние на пользователей по 10-балльной шкале;\n",
    "- Confidence — уверенность в гипотезе по 10-балльной шкале;\n",
    "- Efforts — затраты ресурсов на проверку гипотезы по 10-балльной шкале. Чем больше значение Efforts, тем дороже проверка гипотезы.\n",
    "\n",
    "2 часть:\n",
    "Orders\n",
    "- transactionId — идентификатор заказа;\n",
    "- visitorId — идентификатор пользователя, совершившего заказ;\n",
    "- date — дата, когда был совершён заказ;\n",
    "- revenue — выручка заказа;\n",
    "- group — группа A/B-теста, в которую попал заказ.\n",
    "\n",
    "Visitors\n",
    "- date — дата;\n",
    "- group — группа A/B-теста;\n",
    "- visitors — количество пользователей в указанную дату в указанной группе A/B-теста"
   ]
  },
  {
   "cell_type": "code",
   "execution_count": 2,
   "metadata": {},
   "outputs": [
    {
     "data": {
      "text/html": [
       "<div>\n",
       "<style scoped>\n",
       "    .dataframe tbody tr th:only-of-type {\n",
       "        vertical-align: middle;\n",
       "    }\n",
       "\n",
       "    .dataframe tbody tr th {\n",
       "        vertical-align: top;\n",
       "    }\n",
       "\n",
       "    .dataframe thead th {\n",
       "        text-align: right;\n",
       "    }\n",
       "</style>\n",
       "<table border=\"1\" class=\"dataframe\">\n",
       "  <thead>\n",
       "    <tr style=\"text-align: right;\">\n",
       "      <th></th>\n",
       "      <th>Hypothesis</th>\n",
       "      <th>Reach</th>\n",
       "      <th>Impact</th>\n",
       "      <th>Confidence</th>\n",
       "      <th>Efforts</th>\n",
       "    </tr>\n",
       "  </thead>\n",
       "  <tbody>\n",
       "    <tr>\n",
       "      <th>0</th>\n",
       "      <td>Добавить два новых канала привлечения трафика, что позволит привлекать на 30% больше пользователей</td>\n",
       "      <td>3</td>\n",
       "      <td>10</td>\n",
       "      <td>8</td>\n",
       "      <td>6</td>\n",
       "    </tr>\n",
       "    <tr>\n",
       "      <th>1</th>\n",
       "      <td>Запустить собственную службу доставки, что сократит срок доставки заказов</td>\n",
       "      <td>2</td>\n",
       "      <td>5</td>\n",
       "      <td>4</td>\n",
       "      <td>10</td>\n",
       "    </tr>\n",
       "    <tr>\n",
       "      <th>2</th>\n",
       "      <td>Добавить блоки рекомендаций товаров на сайт интернет магазина, чтобы повысить конверсию и средний чек заказа</td>\n",
       "      <td>8</td>\n",
       "      <td>3</td>\n",
       "      <td>7</td>\n",
       "      <td>3</td>\n",
       "    </tr>\n",
       "    <tr>\n",
       "      <th>3</th>\n",
       "      <td>Изменить структура категорий, что увеличит конверсию, т.к. пользователи быстрее найдут нужный товар</td>\n",
       "      <td>8</td>\n",
       "      <td>3</td>\n",
       "      <td>3</td>\n",
       "      <td>8</td>\n",
       "    </tr>\n",
       "    <tr>\n",
       "      <th>4</th>\n",
       "      <td>Изменить цвет фона главной страницы, чтобы увеличить вовлеченность пользователей</td>\n",
       "      <td>3</td>\n",
       "      <td>1</td>\n",
       "      <td>1</td>\n",
       "      <td>1</td>\n",
       "    </tr>\n",
       "  </tbody>\n",
       "</table>\n",
       "</div>"
      ],
      "text/plain": [
       "                                                                                                     Hypothesis  \\\n",
       "0            Добавить два новых канала привлечения трафика, что позволит привлекать на 30% больше пользователей   \n",
       "1                                     Запустить собственную службу доставки, что сократит срок доставки заказов   \n",
       "2  Добавить блоки рекомендаций товаров на сайт интернет магазина, чтобы повысить конверсию и средний чек заказа   \n",
       "3           Изменить структура категорий, что увеличит конверсию, т.к. пользователи быстрее найдут нужный товар   \n",
       "4                              Изменить цвет фона главной страницы, чтобы увеличить вовлеченность пользователей   \n",
       "\n",
       "   Reach  Impact  Confidence  Efforts  \n",
       "0      3      10           8        6  \n",
       "1      2       5           4       10  \n",
       "2      8       3           7        3  \n",
       "3      8       3           3        8  \n",
       "4      3       1           1        1  "
      ]
     },
     "execution_count": 2,
     "metadata": {},
     "output_type": "execute_result"
    }
   ],
   "source": [
    "hypothesis.head()"
   ]
  },
  {
   "cell_type": "code",
   "execution_count": 3,
   "metadata": {},
   "outputs": [
    {
     "name": "stdout",
     "output_type": "stream",
     "text": [
      "<class 'pandas.core.frame.DataFrame'>\n",
      "RangeIndex: 9 entries, 0 to 8\n",
      "Data columns (total 5 columns):\n",
      " #   Column      Non-Null Count  Dtype \n",
      "---  ------      --------------  ----- \n",
      " 0   Hypothesis  9 non-null      object\n",
      " 1   Reach       9 non-null      int64 \n",
      " 2   Impact      9 non-null      int64 \n",
      " 3   Confidence  9 non-null      int64 \n",
      " 4   Efforts     9 non-null      int64 \n",
      "dtypes: int64(4), object(1)\n",
      "memory usage: 488.0+ bytes\n"
     ]
    }
   ],
   "source": [
    "hypothesis.info()"
   ]
  },
  {
   "cell_type": "code",
   "execution_count": 4,
   "metadata": {},
   "outputs": [
    {
     "name": "stdout",
     "output_type": "stream",
     "text": [
      "<class 'pandas.core.frame.DataFrame'>\n",
      "RangeIndex: 1197 entries, 0 to 1196\n",
      "Data columns (total 5 columns):\n",
      " #   Column         Non-Null Count  Dtype \n",
      "---  ------         --------------  ----- \n",
      " 0   transactionId  1197 non-null   int64 \n",
      " 1   visitorId      1197 non-null   int64 \n",
      " 2   date           1197 non-null   object\n",
      " 3   revenue        1197 non-null   int64 \n",
      " 4   group          1197 non-null   object\n",
      "dtypes: int64(3), object(2)\n",
      "memory usage: 46.9+ KB\n"
     ]
    }
   ],
   "source": [
    "orders.info()"
   ]
  },
  {
   "cell_type": "code",
   "execution_count": 5,
   "metadata": {
    "scrolled": true
   },
   "outputs": [
    {
     "name": "stdout",
     "output_type": "stream",
     "text": [
      "<class 'pandas.core.frame.DataFrame'>\n",
      "RangeIndex: 62 entries, 0 to 61\n",
      "Data columns (total 3 columns):\n",
      " #   Column    Non-Null Count  Dtype \n",
      "---  ------    --------------  ----- \n",
      " 0   date      62 non-null     object\n",
      " 1   group     62 non-null     object\n",
      " 2   visitors  62 non-null     int64 \n",
      "dtypes: int64(1), object(2)\n",
      "memory usage: 1.6+ KB\n"
     ]
    }
   ],
   "source": [
    "visitors.info()"
   ]
  },
  {
   "cell_type": "code",
   "execution_count": 6,
   "metadata": {},
   "outputs": [],
   "source": [
    "#приведем к нужному формату\n",
    "visitors['date'] = pd.to_datetime(visitors['date'])\n",
    "orders['date'] = pd.to_datetime(orders['date'])"
   ]
  },
  {
   "cell_type": "markdown",
   "metadata": {},
   "source": [
    "## Примените фреймворк ICE для приоритизации гипотез. Отсортируйте их по убыванию приоритета."
   ]
  },
  {
   "cell_type": "markdown",
   "metadata": {},
   "source": [
    "ICE (от англ. impact, confidence, effort / ease «влияние, уверенность, усилия / простота») \n",
    "Параметры фреймворков ICE и RICE оценивают в удобных шкалах: например, от 0 до 10 или в числах ряда Фибоначчи."
   ]
  },
  {
   "cell_type": "code",
   "execution_count": 7,
   "metadata": {},
   "outputs": [
    {
     "data": {
      "text/html": [
       "<div>\n",
       "<style scoped>\n",
       "    .dataframe tbody tr th:only-of-type {\n",
       "        vertical-align: middle;\n",
       "    }\n",
       "\n",
       "    .dataframe tbody tr th {\n",
       "        vertical-align: top;\n",
       "    }\n",
       "\n",
       "    .dataframe thead th {\n",
       "        text-align: right;\n",
       "    }\n",
       "</style>\n",
       "<table border=\"1\" class=\"dataframe\">\n",
       "  <thead>\n",
       "    <tr style=\"text-align: right;\">\n",
       "      <th></th>\n",
       "      <th>Hypothesis</th>\n",
       "      <th>ICE</th>\n",
       "    </tr>\n",
       "  </thead>\n",
       "  <tbody>\n",
       "    <tr>\n",
       "      <th>8</th>\n",
       "      <td>Запустить акцию, дающую скидку на товар в день рождения</td>\n",
       "      <td>16.2</td>\n",
       "    </tr>\n",
       "    <tr>\n",
       "      <th>0</th>\n",
       "      <td>Добавить два новых канала привлечения трафика, что позволит привлекать на 30% больше пользователей</td>\n",
       "      <td>13.3</td>\n",
       "    </tr>\n",
       "    <tr>\n",
       "      <th>7</th>\n",
       "      <td>Добавить форму подписки на все основные страницы, чтобы собрать базу клиентов для email-рассылок</td>\n",
       "      <td>11.2</td>\n",
       "    </tr>\n",
       "    <tr>\n",
       "      <th>6</th>\n",
       "      <td>Показать на главной странице баннеры с актуальными акциями и распродажами, чтобы увеличить конверсию</td>\n",
       "      <td>8.0</td>\n",
       "    </tr>\n",
       "    <tr>\n",
       "      <th>2</th>\n",
       "      <td>Добавить блоки рекомендаций товаров на сайт интернет магазина, чтобы повысить конверсию и средний чек заказа</td>\n",
       "      <td>7.0</td>\n",
       "    </tr>\n",
       "    <tr>\n",
       "      <th>1</th>\n",
       "      <td>Запустить собственную службу доставки, что сократит срок доставки заказов</td>\n",
       "      <td>2.0</td>\n",
       "    </tr>\n",
       "    <tr>\n",
       "      <th>5</th>\n",
       "      <td>Добавить страницу отзывов клиентов о магазине, что позволит увеличить количество заказов</td>\n",
       "      <td>1.3</td>\n",
       "    </tr>\n",
       "    <tr>\n",
       "      <th>3</th>\n",
       "      <td>Изменить структура категорий, что увеличит конверсию, т.к. пользователи быстрее найдут нужный товар</td>\n",
       "      <td>1.1</td>\n",
       "    </tr>\n",
       "    <tr>\n",
       "      <th>4</th>\n",
       "      <td>Изменить цвет фона главной страницы, чтобы увеличить вовлеченность пользователей</td>\n",
       "      <td>1.0</td>\n",
       "    </tr>\n",
       "  </tbody>\n",
       "</table>\n",
       "</div>"
      ],
      "text/plain": [
       "                                                                                                     Hypothesis  \\\n",
       "8                                                       Запустить акцию, дающую скидку на товар в день рождения   \n",
       "0            Добавить два новых канала привлечения трафика, что позволит привлекать на 30% больше пользователей   \n",
       "7              Добавить форму подписки на все основные страницы, чтобы собрать базу клиентов для email-рассылок   \n",
       "6          Показать на главной странице баннеры с актуальными акциями и распродажами, чтобы увеличить конверсию   \n",
       "2  Добавить блоки рекомендаций товаров на сайт интернет магазина, чтобы повысить конверсию и средний чек заказа   \n",
       "1                                     Запустить собственную службу доставки, что сократит срок доставки заказов   \n",
       "5                      Добавить страницу отзывов клиентов о магазине, что позволит увеличить количество заказов   \n",
       "3           Изменить структура категорий, что увеличит конверсию, т.к. пользователи быстрее найдут нужный товар   \n",
       "4                              Изменить цвет фона главной страницы, чтобы увеличить вовлеченность пользователей   \n",
       "\n",
       "    ICE  \n",
       "8  16.2  \n",
       "0  13.3  \n",
       "7  11.2  \n",
       "6   8.0  \n",
       "2   7.0  \n",
       "1   2.0  \n",
       "5   1.3  \n",
       "3   1.1  \n",
       "4   1.0  "
      ]
     },
     "execution_count": 7,
     "metadata": {},
     "output_type": "execute_result"
    }
   ],
   "source": [
    "hypothesis['ICE'] = (hypothesis['Impact']*hypothesis['Confidence']/hypothesis['Efforts']).round(1)\n",
    "hypothesis[['Hypothesis', 'ICE']].sort_values(by='ICE', ascending=False)"
   ]
  },
  {
   "cell_type": "markdown",
   "metadata": {},
   "source": [
    "В качастве вывода можно сделать следующую приоретизацию гипотез:\n",
    "- 8: Запустить акцию, дающую скидку на товар в день рождения\n",
    "- 0: Добавить два новых канала привлечения трафика, что позволит привлекать на 30% больше пользователей\t\n",
    "- 7: Добавить форму подписки на все основные страницы, чтобы собрать базу клиентов для email-рассылок"
   ]
  },
  {
   "cell_type": "markdown",
   "metadata": {},
   "source": [
    "## Примените фреймворк RICE для приоритизации гипотез. Отсортируйте их по убыванию приоритета."
   ]
  },
  {
   "cell_type": "code",
   "execution_count": 8,
   "metadata": {},
   "outputs": [
    {
     "data": {
      "text/html": [
       "<div>\n",
       "<style scoped>\n",
       "    .dataframe tbody tr th:only-of-type {\n",
       "        vertical-align: middle;\n",
       "    }\n",
       "\n",
       "    .dataframe tbody tr th {\n",
       "        vertical-align: top;\n",
       "    }\n",
       "\n",
       "    .dataframe thead th {\n",
       "        text-align: right;\n",
       "    }\n",
       "</style>\n",
       "<table border=\"1\" class=\"dataframe\">\n",
       "  <thead>\n",
       "    <tr style=\"text-align: right;\">\n",
       "      <th></th>\n",
       "      <th>Hypothesis</th>\n",
       "      <th>RICE</th>\n",
       "    </tr>\n",
       "  </thead>\n",
       "  <tbody>\n",
       "    <tr>\n",
       "      <th>7</th>\n",
       "      <td>Добавить форму подписки на все основные страницы, чтобы собрать базу клиентов для email-рассылок</td>\n",
       "      <td>112.0</td>\n",
       "    </tr>\n",
       "    <tr>\n",
       "      <th>2</th>\n",
       "      <td>Добавить блоки рекомендаций товаров на сайт интернет магазина, чтобы повысить конверсию и средний чек заказа</td>\n",
       "      <td>56.0</td>\n",
       "    </tr>\n",
       "    <tr>\n",
       "      <th>0</th>\n",
       "      <td>Добавить два новых канала привлечения трафика, что позволит привлекать на 30% больше пользователей</td>\n",
       "      <td>40.0</td>\n",
       "    </tr>\n",
       "    <tr>\n",
       "      <th>6</th>\n",
       "      <td>Показать на главной странице баннеры с актуальными акциями и распродажами, чтобы увеличить конверсию</td>\n",
       "      <td>40.0</td>\n",
       "    </tr>\n",
       "    <tr>\n",
       "      <th>8</th>\n",
       "      <td>Запустить акцию, дающую скидку на товар в день рождения</td>\n",
       "      <td>16.2</td>\n",
       "    </tr>\n",
       "    <tr>\n",
       "      <th>3</th>\n",
       "      <td>Изменить структура категорий, что увеличит конверсию, т.к. пользователи быстрее найдут нужный товар</td>\n",
       "      <td>9.0</td>\n",
       "    </tr>\n",
       "    <tr>\n",
       "      <th>1</th>\n",
       "      <td>Запустить собственную службу доставки, что сократит срок доставки заказов</td>\n",
       "      <td>4.0</td>\n",
       "    </tr>\n",
       "    <tr>\n",
       "      <th>5</th>\n",
       "      <td>Добавить страницу отзывов клиентов о магазине, что позволит увеличить количество заказов</td>\n",
       "      <td>4.0</td>\n",
       "    </tr>\n",
       "    <tr>\n",
       "      <th>4</th>\n",
       "      <td>Изменить цвет фона главной страницы, чтобы увеличить вовлеченность пользователей</td>\n",
       "      <td>3.0</td>\n",
       "    </tr>\n",
       "  </tbody>\n",
       "</table>\n",
       "</div>"
      ],
      "text/plain": [
       "                                                                                                     Hypothesis  \\\n",
       "7              Добавить форму подписки на все основные страницы, чтобы собрать базу клиентов для email-рассылок   \n",
       "2  Добавить блоки рекомендаций товаров на сайт интернет магазина, чтобы повысить конверсию и средний чек заказа   \n",
       "0            Добавить два новых канала привлечения трафика, что позволит привлекать на 30% больше пользователей   \n",
       "6          Показать на главной странице баннеры с актуальными акциями и распродажами, чтобы увеличить конверсию   \n",
       "8                                                       Запустить акцию, дающую скидку на товар в день рождения   \n",
       "3           Изменить структура категорий, что увеличит конверсию, т.к. пользователи быстрее найдут нужный товар   \n",
       "1                                     Запустить собственную службу доставки, что сократит срок доставки заказов   \n",
       "5                      Добавить страницу отзывов клиентов о магазине, что позволит увеличить количество заказов   \n",
       "4                              Изменить цвет фона главной страницы, чтобы увеличить вовлеченность пользователей   \n",
       "\n",
       "    RICE  \n",
       "7  112.0  \n",
       "2   56.0  \n",
       "0   40.0  \n",
       "6   40.0  \n",
       "8   16.2  \n",
       "3    9.0  \n",
       "1    4.0  \n",
       "5    4.0  \n",
       "4    3.0  "
      ]
     },
     "execution_count": 8,
     "metadata": {},
     "output_type": "execute_result"
    }
   ],
   "source": [
    "hypothesis['RICE'] = (hypothesis['Impact']*hypothesis['Confidence']*hypothesis['Reach'])/hypothesis['Efforts']\n",
    "\n",
    "hypothesis[['Hypothesis', 'RICE']].sort_values(by='RICE', ascending=False)"
   ]
  },
  {
   "cell_type": "markdown",
   "metadata": {},
   "source": [
    "В качастве вывода можно сделать следующую приоретизацию гипотез:\n",
    "- 7: Добавить форму подписки на все основные страницы, чтобы собрать базу клиентов для email-рассылок\n",
    "- 2: Добавить блоки рекомендаций товаров на сайт интернет магазина, чтобы повысить конверсию и средний чек заказа\t\n",
    "- 0: Добавить два новых канала привлечения трафика, что позволит привлекать на 30% больше пользователей\t\n",
    "- 6: Показать на главной странице баннеры с актуальными акциями и распродажами, чтобы увеличить конверсию"
   ]
  },
  {
   "cell_type": "markdown",
   "metadata": {},
   "source": [
    "## Выводы"
   ]
  },
  {
   "cell_type": "markdown",
   "metadata": {},
   "source": [
    "- Используя фреймворк ICE, лидерами стали гипотезы 8,0,7;\n",
    "- Используя фреймворк RICE, лидерами стали гипотезы 7,2,0,6;\n",
    "- Как можно заметить, лидеры-гипотезы отличаются в двух фреймворках, это можно объяснить тем, что ICE НЕ учитывает охваты пользователей."
   ]
  },
  {
   "cell_type": "markdown",
   "metadata": {},
   "source": [
    "# Часть 2. Анализ A/B-теста"
   ]
  },
  {
   "cell_type": "markdown",
   "metadata": {},
   "source": [
    "Вы провели A/B-тест и получили результаты, которые описаны в файлах /datasets/orders.csv и /datasets/visitors.csv. \n",
    "Задача: проанализировать тест. "
   ]
  },
  {
   "cell_type": "markdown",
   "metadata": {},
   "source": [
    "Перед построением графиков проверим данные на явные дубликаты:"
   ]
  },
  {
   "cell_type": "code",
   "execution_count": 9,
   "metadata": {},
   "outputs": [
    {
     "data": {
      "text/plain": [
       "0"
      ]
     },
     "execution_count": 9,
     "metadata": {},
     "output_type": "execute_result"
    }
   ],
   "source": [
    "orders.duplicated().sum()"
   ]
  },
  {
   "cell_type": "code",
   "execution_count": 10,
   "metadata": {
    "scrolled": true
   },
   "outputs": [
    {
     "data": {
      "text/plain": [
       "0"
      ]
     },
     "execution_count": 10,
     "metadata": {},
     "output_type": "execute_result"
    }
   ],
   "source": [
    "visitors.duplicated().sum()"
   ]
  },
  {
   "cell_type": "markdown",
   "metadata": {},
   "source": [
    "Явных дубликатов в данных не выявлено. "
   ]
  },
  {
   "cell_type": "code",
   "execution_count": 11,
   "metadata": {},
   "outputs": [
    {
     "name": "stdout",
     "output_type": "stream",
     "text": [
      "Количество пересекающихся пользователей в двух группах: 89\n"
     ]
    }
   ],
   "source": [
    "#посчитаем количество пересекающихся пользователей \n",
    "duplicatedAB = orders.loc[orders['group'] == 'A', 'visitorId'].isin(orders.loc[orders['group'] == 'B', 'visitorId'])\n",
    "print('Количество пересекающихся пользователей в двух группах:', duplicatedAB.sum())"
   ]
  },
  {
   "cell_type": "markdown",
   "metadata": {},
   "source": [
    "Если пользователь совершал много покупок он мог попасть в обе группы. Можно таких пользователей удалить, но делать это не обязательно. Тогда из теста уйдут покупатели с большим числом покупок, а поиск аномальных покупателей по количеству покупок даст другие результаты.\n"
   ]
  },
  {
   "cell_type": "code",
   "execution_count": 12,
   "metadata": {},
   "outputs": [
    {
     "name": "stdout",
     "output_type": "stream",
     "text": [
      "Количество участников в группе А: 557\n",
      "Количество участников в группе B: 640\n"
     ]
    }
   ],
   "source": [
    "#посчитаем пользователей в группах\n",
    "countA = len(orders.loc[orders['group'] == 'A'])\n",
    "countB = len(orders.loc[orders['group'] == 'B'])\n",
    "print('Количество участников в группе А:', countA)\n",
    "print('Количество участников в группе B:', countB)"
   ]
  },
  {
   "cell_type": "markdown",
   "metadata": {},
   "source": [
    "Вывод:  \n",
    "- В данных не было выявлено явных дубликатов. \n",
    "- Всего в тесте в группах А и В участвует 557 и 640 человек соответственно. \n",
    "- Получилось, что группы разные по размеру, можно объяснить это тем, что была проведена более эффективая работа с пользователями в группе В (возможно, причина в лучшей конверсии). Разница в данном случае не значительна.\n",
    "- Пользователи пересекаются и некоторые попадают в две группы сразу. Было решено оставить таких пользователей для дальнейших корректных действий с данными. \n"
   ]
  },
  {
   "cell_type": "markdown",
   "metadata": {},
   "source": [
    "# 1 Постройте график кумулятивной выручки по группам. Сделайте выводы и предположения."
   ]
  },
  {
   "cell_type": "code",
   "execution_count": 13,
   "metadata": {},
   "outputs": [
    {
     "data": {
      "text/html": [
       "<div>\n",
       "<style scoped>\n",
       "    .dataframe tbody tr th:only-of-type {\n",
       "        vertical-align: middle;\n",
       "    }\n",
       "\n",
       "    .dataframe tbody tr th {\n",
       "        vertical-align: top;\n",
       "    }\n",
       "\n",
       "    .dataframe thead th {\n",
       "        text-align: right;\n",
       "    }\n",
       "</style>\n",
       "<table border=\"1\" class=\"dataframe\">\n",
       "  <thead>\n",
       "    <tr style=\"text-align: right;\">\n",
       "      <th></th>\n",
       "      <th>date</th>\n",
       "      <th>group</th>\n",
       "      <th>transactionId</th>\n",
       "      <th>visitorId</th>\n",
       "      <th>revenue</th>\n",
       "    </tr>\n",
       "  </thead>\n",
       "  <tbody>\n",
       "    <tr>\n",
       "      <th>55</th>\n",
       "      <td>2019-08-01</td>\n",
       "      <td>A</td>\n",
       "      <td>24</td>\n",
       "      <td>20</td>\n",
       "      <td>148579</td>\n",
       "    </tr>\n",
       "    <tr>\n",
       "      <th>66</th>\n",
       "      <td>2019-08-01</td>\n",
       "      <td>B</td>\n",
       "      <td>21</td>\n",
       "      <td>20</td>\n",
       "      <td>101217</td>\n",
       "    </tr>\n",
       "    <tr>\n",
       "      <th>175</th>\n",
       "      <td>2019-08-02</td>\n",
       "      <td>A</td>\n",
       "      <td>44</td>\n",
       "      <td>38</td>\n",
       "      <td>242401</td>\n",
       "    </tr>\n",
       "    <tr>\n",
       "      <th>173</th>\n",
       "      <td>2019-08-02</td>\n",
       "      <td>B</td>\n",
       "      <td>45</td>\n",
       "      <td>43</td>\n",
       "      <td>266748</td>\n",
       "    </tr>\n",
       "    <tr>\n",
       "      <th>291</th>\n",
       "      <td>2019-08-03</td>\n",
       "      <td>A</td>\n",
       "      <td>68</td>\n",
       "      <td>62</td>\n",
       "      <td>354874</td>\n",
       "    </tr>\n",
       "  </tbody>\n",
       "</table>\n",
       "</div>"
      ],
      "text/plain": [
       "          date group  transactionId  visitorId  revenue\n",
       "55  2019-08-01     A             24         20   148579\n",
       "66  2019-08-01     B             21         20   101217\n",
       "175 2019-08-02     A             44         38   242401\n",
       "173 2019-08-02     B             45         43   266748\n",
       "291 2019-08-03     A             68         62   354874"
      ]
     },
     "execution_count": 13,
     "metadata": {},
     "output_type": "execute_result"
    }
   ],
   "source": [
    "#Cоздадим массив уникальных пар значений дат и групп теста\n",
    "groups = orders[['date','group']].drop_duplicates()\n",
    "\n",
    "#Найдём число уникальных ID заказов и пользователей. Подсчитаем сумму средних чеков\n",
    "orders_agg = groups.apply(lambda x: orders[np.logical_and(orders['date'] <= x['date'], orders['group'] == x['group'])].agg({\n",
    "'date' : 'max',\n",
    "'group' : 'max',\n",
    "'transactionId' : pd.Series.nunique,\n",
    "'visitorId' : pd.Series.nunique,\n",
    "'revenue' : 'sum'}), axis=1).sort_values(by=['date','group'])\n",
    "\n",
    "orders_agg.head()"
   ]
  },
  {
   "cell_type": "code",
   "execution_count": 14,
   "metadata": {},
   "outputs": [
    {
     "data": {
      "text/html": [
       "<div>\n",
       "<style scoped>\n",
       "    .dataframe tbody tr th:only-of-type {\n",
       "        vertical-align: middle;\n",
       "    }\n",
       "\n",
       "    .dataframe tbody tr th {\n",
       "        vertical-align: top;\n",
       "    }\n",
       "\n",
       "    .dataframe thead th {\n",
       "        text-align: right;\n",
       "    }\n",
       "</style>\n",
       "<table border=\"1\" class=\"dataframe\">\n",
       "  <thead>\n",
       "    <tr style=\"text-align: right;\">\n",
       "      <th></th>\n",
       "      <th>date</th>\n",
       "      <th>group</th>\n",
       "      <th>visitors</th>\n",
       "    </tr>\n",
       "  </thead>\n",
       "  <tbody>\n",
       "    <tr>\n",
       "      <th>55</th>\n",
       "      <td>2019-08-01</td>\n",
       "      <td>A</td>\n",
       "      <td>719</td>\n",
       "    </tr>\n",
       "    <tr>\n",
       "      <th>66</th>\n",
       "      <td>2019-08-01</td>\n",
       "      <td>B</td>\n",
       "      <td>713</td>\n",
       "    </tr>\n",
       "    <tr>\n",
       "      <th>175</th>\n",
       "      <td>2019-08-02</td>\n",
       "      <td>A</td>\n",
       "      <td>1338</td>\n",
       "    </tr>\n",
       "    <tr>\n",
       "      <th>173</th>\n",
       "      <td>2019-08-02</td>\n",
       "      <td>B</td>\n",
       "      <td>1294</td>\n",
       "    </tr>\n",
       "    <tr>\n",
       "      <th>291</th>\n",
       "      <td>2019-08-03</td>\n",
       "      <td>A</td>\n",
       "      <td>1845</td>\n",
       "    </tr>\n",
       "  </tbody>\n",
       "</table>\n",
       "</div>"
      ],
      "text/plain": [
       "          date group  visitors\n",
       "55  2019-08-01     A       719\n",
       "66  2019-08-01     B       713\n",
       "175 2019-08-02     A      1338\n",
       "173 2019-08-02     B      1294\n",
       "291 2019-08-03     A      1845"
      ]
     },
     "execution_count": 14,
     "metadata": {},
     "output_type": "execute_result"
    }
   ],
   "source": [
    "#Получим агрегированные кумулятивные по дням данные о посетителях интернет-магазина:\n",
    "visitors_agg = groups.apply(lambda x: visitors[np.logical_and(visitors['date'] <= x['date'], visitors['group'] == x['group'])].agg({\n",
    "'date' : 'max', 'group' : 'max', 'visitors' : 'sum'}), axis=1).sort_values(by=['date','group'])\n",
    "\n",
    "visitors_agg.head()"
   ]
  },
  {
   "cell_type": "code",
   "execution_count": 15,
   "metadata": {},
   "outputs": [
    {
     "data": {
      "text/html": [
       "<div>\n",
       "<style scoped>\n",
       "    .dataframe tbody tr th:only-of-type {\n",
       "        vertical-align: middle;\n",
       "    }\n",
       "\n",
       "    .dataframe tbody tr th {\n",
       "        vertical-align: top;\n",
       "    }\n",
       "\n",
       "    .dataframe thead th {\n",
       "        text-align: right;\n",
       "    }\n",
       "</style>\n",
       "<table border=\"1\" class=\"dataframe\">\n",
       "  <thead>\n",
       "    <tr style=\"text-align: right;\">\n",
       "      <th></th>\n",
       "      <th>date</th>\n",
       "      <th>group</th>\n",
       "      <th>num_orders</th>\n",
       "      <th>paying_visitors</th>\n",
       "      <th>revenue</th>\n",
       "      <th>num_visitors</th>\n",
       "    </tr>\n",
       "  </thead>\n",
       "  <tbody>\n",
       "    <tr>\n",
       "      <th>0</th>\n",
       "      <td>2019-08-01</td>\n",
       "      <td>A</td>\n",
       "      <td>24</td>\n",
       "      <td>20</td>\n",
       "      <td>148579</td>\n",
       "      <td>719</td>\n",
       "    </tr>\n",
       "    <tr>\n",
       "      <th>1</th>\n",
       "      <td>2019-08-01</td>\n",
       "      <td>B</td>\n",
       "      <td>21</td>\n",
       "      <td>20</td>\n",
       "      <td>101217</td>\n",
       "      <td>713</td>\n",
       "    </tr>\n",
       "    <tr>\n",
       "      <th>2</th>\n",
       "      <td>2019-08-02</td>\n",
       "      <td>A</td>\n",
       "      <td>44</td>\n",
       "      <td>38</td>\n",
       "      <td>242401</td>\n",
       "      <td>1338</td>\n",
       "    </tr>\n",
       "    <tr>\n",
       "      <th>3</th>\n",
       "      <td>2019-08-02</td>\n",
       "      <td>B</td>\n",
       "      <td>45</td>\n",
       "      <td>43</td>\n",
       "      <td>266748</td>\n",
       "      <td>1294</td>\n",
       "    </tr>\n",
       "    <tr>\n",
       "      <th>4</th>\n",
       "      <td>2019-08-03</td>\n",
       "      <td>A</td>\n",
       "      <td>68</td>\n",
       "      <td>62</td>\n",
       "      <td>354874</td>\n",
       "      <td>1845</td>\n",
       "    </tr>\n",
       "  </tbody>\n",
       "</table>\n",
       "</div>"
      ],
      "text/plain": [
       "        date group  num_orders  paying_visitors  revenue  num_visitors\n",
       "0 2019-08-01     A          24               20   148579           719\n",
       "1 2019-08-01     B          21               20   101217           713\n",
       "2 2019-08-02     A          44               38   242401          1338\n",
       "3 2019-08-02     B          45               43   266748          1294\n",
       "4 2019-08-03     A          68               62   354874          1845"
      ]
     },
     "execution_count": 15,
     "metadata": {},
     "output_type": "execute_result"
    }
   ],
   "source": [
    "#Объединим обе таблицы в одну с понятными названиями столбцов:\n",
    "cumulative_data = orders_agg.merge(\n",
    "    visitors_agg, left_on=['date', 'group'], right_on=['date', 'group']) \n",
    "\n",
    "cumulative_data.columns = ['date', 'group', 'num_orders', 'paying_visitors', 'revenue', 'num_visitors']\n",
    "cumulative_data.head()"
   ]
  },
  {
   "cell_type": "code",
   "execution_count": 16,
   "metadata": {},
   "outputs": [],
   "source": [
    "cumulativeRevenueA = cumulative_data[cumulative_data['group']=='A'][['date','revenue', 'num_orders']]\n",
    "cumulativeRevenueB = cumulative_data[cumulative_data['group']=='B'][['date','revenue', 'num_orders']]"
   ]
  },
  {
   "cell_type": "code",
   "execution_count": 17,
   "metadata": {},
   "outputs": [
    {
     "data": {
      "image/png": "[encoded data removed]",
      "text/plain": [
       "<Figure size 1080x432 with 1 Axes>"
      ]
     },
     "metadata": {
      "needs_background": "light"
     },
     "output_type": "display_data"
    }
   ],
   "source": [
    "#Строим график\n",
    "plt.figure(figsize=(15,6))\n",
    "\n",
    "plt.plot(cumulativeRevenueA['date'], cumulativeRevenueA['revenue'], label='A')\n",
    "plt.plot(cumulativeRevenueB['date'], cumulativeRevenueB['revenue'], label='B')\n",
    "\n",
    "plt.title('Кумулятивная выручка по дням и группам A/B-тестирования', pad=20)\n",
    "plt.xlabel('Дата')\n",
    "plt.ylabel('Выручка')\n",
    "plt.legend(['Группа А', 'Группа Б'])\n",
    "plt.show()"
   ]
  },
  {
   "cell_type": "markdown",
   "metadata": {},
   "source": [
    "Выводы:\n",
    "- Выручка равномерно увеличивается в течение всего теста в двух группах \n",
    "- График выручки В возрастает в середине (19.08.2019), это можно объяснить либо очень дорогостоящим, крупным заказом, либо резким увеличением количества заказов\n"
   ]
  },
  {
   "cell_type": "markdown",
   "metadata": {},
   "source": [
    "# 2 Постройте график кумулятивного среднего чека по группам. Сделайте выводы и предположения."
   ]
  },
  {
   "cell_type": "code",
   "execution_count": 18,
   "metadata": {},
   "outputs": [
    {
     "data": {
      "image/png": "[encoded data removed]",
      "text/plain": [
       "<Figure size 1080x432 with 1 Axes>"
      ]
     },
     "metadata": {
      "needs_background": "light"
     },
     "output_type": "display_data"
    }
   ],
   "source": [
    "plt.figure(figsize=(15,6))\n",
    "\n",
    "plt.plot(cumulativeRevenueA['date'], cumulativeRevenueA['revenue']/cumulativeRevenueA['num_orders'], label='A')\n",
    "plt.plot(cumulativeRevenueB['date'], cumulativeRevenueB['revenue']/cumulativeRevenueB['num_orders'], label='B')\n",
    "plt.legend() \n",
    "\n",
    "\n",
    "plt.title('Кумулятивный средний чек по группам', pad=20)\n",
    "plt.xlabel('Дата')\n",
    "plt.ylabel('Средний чек')\n",
    "plt.legend(['Группа А', 'Группа Б'])\n",
    "plt.show()"
   ]
  },
  {
   "cell_type": "markdown",
   "metadata": {},
   "source": [
    "Выводы:\n",
    "- Оба графика содержат колебания в нескольких точках\n",
    "- График группы А стабилизировался в середине\n",
    "- Средний чек группы В еще не стабилизировался,на графике группы В заметен резкий всплекс (19.08.2019), это может быть связано с аномально дорогостоящим, крупным заказом "
   ]
  },
  {
   "cell_type": "markdown",
   "metadata": {},
   "source": [
    "# 3 Постройте график относительного изменения кумулятивного среднего чека группы B к группе A. Сделайте выводы и предположения."
   ]
  },
  {
   "cell_type": "code",
   "execution_count": 19,
   "metadata": {},
   "outputs": [
    {
     "data": {
      "image/png": "[encoded data removed]",
      "text/plain": [
       "<Figure size 1080x432 with 1 Axes>"
      ]
     },
     "metadata": {
      "needs_background": "light"
     },
     "output_type": "display_data"
    }
   ],
   "source": [
    "#объединим таблицы cumulativeRevenueA и cumulativeRevenueB\n",
    "mergedCumulativeRevenue = cumulativeRevenueA.merge(cumulativeRevenueB, left_on='date', right_on='date', how='left', suffixes=['A', 'B'])\n",
    "# cтроим отношение средних чеков\n",
    "plt.figure(figsize=(15,6))\n",
    "plt.plot(mergedCumulativeRevenue['date'], (mergedCumulativeRevenue['revenueB']/mergedCumulativeRevenue['num_ordersA'])/(mergedCumulativeRevenue['revenueA']/mergedCumulativeRevenue['num_ordersA'])-1)\n",
    "\n",
    "# добавляем ось X\n",
    "plt.axhline(y=0, color='black', linestyle='--')\n",
    "\n",
    "plt.title('Относительное изменение кумулятивного среднего чека группы В к группе А', pad=20)\n",
    "plt.ylabel('Относит. различие для сред. чека')\n",
    "plt.xlabel('Дата')\n",
    "plt.show()"
   ]
  },
  {
   "cell_type": "markdown",
   "metadata": {},
   "source": [
    "Выводы:\n",
    "- В нескольких точках график различия между сегментами резко «скачет». Можно объяснить это крупными дорогостоящими заказами и выбросами. Найдём их позже."
   ]
  },
  {
   "cell_type": "markdown",
   "metadata": {},
   "source": [
    "# 4 Постройте график кумулятивной конверсии по группам. Сделайте выводы и предположения."
   ]
  },
  {
   "cell_type": "code",
   "execution_count": 20,
   "metadata": {},
   "outputs": [],
   "source": [
    "cumulative_data['conversion'] = cumulative_data['num_orders']/cumulative_data['num_visitors'] *100\n",
    "# отделяем данные по группе A\n",
    "cumulativeDataA = cumulative_data[cumulative_data['group']=='A']\n",
    "\n",
    "# отделяем данные по группе B\n",
    "cumulativeDataB = cumulative_data[cumulative_data['group']=='B']\n"
   ]
  },
  {
   "cell_type": "code",
   "execution_count": 21,
   "metadata": {},
   "outputs": [
    {
     "data": {
      "image/png": "[encoded data removed]",
      "text/plain": [
       "<Figure size 1080x432 with 1 Axes>"
      ]
     },
     "metadata": {
      "needs_background": "light"
     },
     "output_type": "display_data"
    }
   ],
   "source": [
    "plt.figure(figsize=(15,6))\n",
    "plt.plot(cumulativeDataA['date'], cumulativeDataA['conversion'], label='A')\n",
    "plt.plot(cumulativeDataB['date'], cumulativeDataB['conversion'], label='B')\n",
    "\n",
    "plt.title('Кумулятивная конверсия по группам', pad=20)\n",
    "plt.xlabel('Дата')\n",
    "plt.ylabel('Конверсия')\n",
    "plt.legend(['Группа А', 'Группа Б'])\n",
    "plt.show()"
   ]
  },
  {
   "cell_type": "markdown",
   "metadata": {},
   "source": [
    "Выводы:\n",
    "- В начале графика, конверсия группы А превышает группу В, однако далее конверсия группы В выравнивается и превышает конверсию группы А"
   ]
  },
  {
   "cell_type": "markdown",
   "metadata": {},
   "source": [
    "# 5 Постройте график относительного изменения кумулятивной конверсии группы B к группе A. Сделайте выводы и предположения."
   ]
  },
  {
   "cell_type": "code",
   "execution_count": 22,
   "metadata": {},
   "outputs": [],
   "source": [
    "mergedCumulativeConversions = cumulativeDataA[['date','conversion']].merge(cumulativeDataB[['date','conversion']], left_on='date', right_on='date', how='left', suffixes=['A', 'B']) \n"
   ]
  },
  {
   "cell_type": "code",
   "execution_count": 23,
   "metadata": {},
   "outputs": [
    {
     "data": {
      "text/plain": [
       "<matplotlib.legend.Legend at 0x7f4acb6d2730>"
      ]
     },
     "execution_count": 23,
     "metadata": {},
     "output_type": "execute_result"
    },
    {
     "data": {
      "image/png": "[encoded data removed]",
      "text/plain": [
       "<Figure size 1080x432 with 1 Axes>"
      ]
     },
     "metadata": {
      "needs_background": "light"
     },
     "output_type": "display_data"
    }
   ],
   "source": [
    "plt.figure(figsize=(15,6))\n",
    "plt.plot(mergedCumulativeConversions['date'], mergedCumulativeConversions['conversionB']/mergedCumulativeConversions['conversionA']-1, label=\"Относительный прирост конверсии группы B относительно группы A\")\n",
    "plt.title('Относительное изменение кумулятивной конверсии группы В к группе А', pad=20)\n",
    "plt.xlabel('Дата')\n",
    "plt.ylabel('Конверсия')\n",
    "plt.axhline(y=0.10, color='grey', linestyle='--')\n",
    "plt.legend()\n"
   ]
  },
  {
   "cell_type": "markdown",
   "metadata": {},
   "source": [
    "Вывод:\n",
    "- Практически на протяжении всего теста группа B выигрывает у группы A.\n",
    "- Конверсия в группе B стабильно выше на 10% по истечении 1 недели."
   ]
  },
  {
   "cell_type": "markdown",
   "metadata": {},
   "source": [
    "# 6 Постройте точечный график количества заказов по пользователям. Сделайте выводы и предположения."
   ]
  },
  {
   "cell_type": "code",
   "execution_count": 24,
   "metadata": {},
   "outputs": [
    {
     "data": {
      "text/html": [
       "<div>\n",
       "<style scoped>\n",
       "    .dataframe tbody tr th:only-of-type {\n",
       "        vertical-align: middle;\n",
       "    }\n",
       "\n",
       "    .dataframe tbody tr th {\n",
       "        vertical-align: top;\n",
       "    }\n",
       "\n",
       "    .dataframe thead th {\n",
       "        text-align: right;\n",
       "    }\n",
       "</style>\n",
       "<table border=\"1\" class=\"dataframe\">\n",
       "  <thead>\n",
       "    <tr style=\"text-align: right;\">\n",
       "      <th></th>\n",
       "      <th>transactionId</th>\n",
       "    </tr>\n",
       "    <tr>\n",
       "      <th>visitorId</th>\n",
       "      <th></th>\n",
       "    </tr>\n",
       "  </thead>\n",
       "  <tbody>\n",
       "    <tr>\n",
       "      <th>5114589</th>\n",
       "      <td>1</td>\n",
       "    </tr>\n",
       "    <tr>\n",
       "      <th>6958315</th>\n",
       "      <td>1</td>\n",
       "    </tr>\n",
       "    <tr>\n",
       "      <th>8300375</th>\n",
       "      <td>2</td>\n",
       "    </tr>\n",
       "    <tr>\n",
       "      <th>11685486</th>\n",
       "      <td>1</td>\n",
       "    </tr>\n",
       "    <tr>\n",
       "      <th>39475350</th>\n",
       "      <td>1</td>\n",
       "    </tr>\n",
       "    <tr>\n",
       "      <th>...</th>\n",
       "      <td>...</td>\n",
       "    </tr>\n",
       "    <tr>\n",
       "      <th>4266935830</th>\n",
       "      <td>2</td>\n",
       "    </tr>\n",
       "    <tr>\n",
       "      <th>4278982564</th>\n",
       "      <td>1</td>\n",
       "    </tr>\n",
       "    <tr>\n",
       "      <th>4279090005</th>\n",
       "      <td>1</td>\n",
       "    </tr>\n",
       "    <tr>\n",
       "      <th>4281247801</th>\n",
       "      <td>1</td>\n",
       "    </tr>\n",
       "    <tr>\n",
       "      <th>4283872382</th>\n",
       "      <td>1</td>\n",
       "    </tr>\n",
       "  </tbody>\n",
       "</table>\n",
       "<p>1031 rows × 1 columns</p>\n",
       "</div>"
      ],
      "text/plain": [
       "            transactionId\n",
       "visitorId                \n",
       "5114589                 1\n",
       "6958315                 1\n",
       "8300375                 2\n",
       "11685486                1\n",
       "39475350                1\n",
       "...                   ...\n",
       "4266935830              2\n",
       "4278982564              1\n",
       "4279090005              1\n",
       "4281247801              1\n",
       "4283872382              1\n",
       "\n",
       "[1031 rows x 1 columns]"
      ]
     },
     "execution_count": 24,
     "metadata": {},
     "output_type": "execute_result"
    }
   ],
   "source": [
    "# Найдём число заказов по пользователям\n",
    "ordersByUsers = orders.groupby('visitorId').agg({'transactionId': 'nunique'})\n",
    "ordersByUsers"
   ]
  },
  {
   "cell_type": "code",
   "execution_count": 25,
   "metadata": {},
   "outputs": [
    {
     "data": {
      "image/png": "[encoded data removed]",
      "text/plain": [
       "<Figure size 1080x432 with 1 Axes>"
      ]
     },
     "metadata": {
      "needs_background": "light"
     },
     "output_type": "display_data"
    }
   ],
   "source": [
    "# Построим точечный график \n",
    "x_values = pd.Series(range(0,len(ordersByUsers.index)))\n",
    "plt.figure(figsize=(15, 6))\n",
    "plt.scatter(x_values, ordersByUsers['transactionId'])\n",
    "plt.title('График количества заказов по пользователям')\n",
    "plt.xlabel('Количество пользователей')\n",
    "plt.ylabel('Количество заказов')\n",
    "plt.show()"
   ]
  },
  {
   "cell_type": "markdown",
   "metadata": {},
   "source": [
    "Вывод:\n",
    "- Основная масса пользователей совершила 1 заказ, гораздо меньше совершило 2 заказа. Небольшая доля пользователей сделали от 3 до 5 заказов. Также есть пользователи сделавшие 8,9 и даже 11 заказов, можно считать это выбосами."
   ]
  },
  {
   "cell_type": "markdown",
   "metadata": {},
   "source": [
    "# 7 Посчитайте 95-й и 99-й перцентили количества заказов на пользователя. Выберите границу для определения аномальных пользователей."
   ]
  },
  {
   "cell_type": "code",
   "execution_count": 26,
   "metadata": {},
   "outputs": [
    {
     "name": "stdout",
     "output_type": "stream",
     "text": [
      "95-й перцентиль количества заказов на пользователя: 2.0\n",
      "99-й перцентиль количества заказов на пользователя: 4.0\n"
     ]
    }
   ],
   "source": [
    "print('95-й перцентиль количества заказов на пользователя:',np.percentile(ordersByUsers['transactionId'], 95)) \n",
    "print('99-й перцентиль количества заказов на пользователя:',np.percentile(ordersByUsers['transactionId'], 99)) "
   ]
  },
  {
   "cell_type": "markdown",
   "metadata": {},
   "source": [
    "Вывод:\n",
    "- Не более 5% пользователей совершили 2 заказа, не более 1% пользователей совершило 4 заказа. \n",
    "- Граница для определения аномальных пользователей -  на 1 пользвателя 3 заказа."
   ]
  },
  {
   "cell_type": "markdown",
   "metadata": {},
   "source": [
    "# 8 Постройте точечный график стоимостей заказов. Сделайте выводы и предположения."
   ]
  },
  {
   "cell_type": "code",
   "execution_count": 27,
   "metadata": {
    "scrolled": false
   },
   "outputs": [
    {
     "data": {
      "image/png": "[encoded data removed]",
      "text/plain": [
       "<Figure size 1080x432 with 1 Axes>"
      ]
     },
     "metadata": {
      "needs_background": "light"
     },
     "output_type": "display_data"
    }
   ],
   "source": [
    "# Построение точечного графика \n",
    "x_values = pd.Series(range(0,len(orders['revenue'])))\n",
    "plt.figure(figsize=(15, 6))\n",
    "plt.axis([0, 1210, 0, 200000])\n",
    "plt.scatter(x_values, orders['revenue'])\n",
    "plt.title('Точечный график стоимостей заказов')\n",
    "plt.xlabel('Порядковый номер заказа')\n",
    "plt.ylabel('Стоимость заказов')\n",
    "plt.show()"
   ]
  },
  {
   "cell_type": "markdown",
   "metadata": {},
   "source": [
    "Вывод:\n",
    "- Большая часть заказов не превышает сумму в 20 тыс. руб."
   ]
  },
  {
   "cell_type": "markdown",
   "metadata": {},
   "source": [
    "# 9 Посчитайте 95-й и 99-й перцентили стоимости заказов. Выберите границу для определения аномальных заказов."
   ]
  },
  {
   "cell_type": "code",
   "execution_count": 29,
   "metadata": {},
   "outputs": [
    {
     "name": "stdout",
     "output_type": "stream",
     "text": [
      "95-й перцентиль стоимости заказов: 28000.0\n",
      "99-й перцентиль стоимости заказов: 58233.2\n"
     ]
    }
   ],
   "source": [
    "print('95-й перцентиль стоимости заказов:',(np.percentile(orders['revenue'], 95)).round(2))\n",
    "print('99-й перцентиль стоимости заказов:',(np.percentile(orders['revenue'], 99)).round(2))"
   ]
  },
  {
   "cell_type": "markdown",
   "metadata": {},
   "source": [
    "Вывод: \n",
    "- Сделано не более 5% заказов на сумму 28'000, а так же не более 1% заказов на сумму 58'233. \n",
    "- Границу для определения аномальной стоимости заказа примем за 95-й перцентиль, а именно за 28'000."
   ]
  },
  {
   "cell_type": "markdown",
   "metadata": {},
   "source": [
    "# 10 Посчитайте статистическую значимость различий в конверсии между группами по «сырым» данным. Сделайте выводы и предположения."
   ]
  },
  {
   "cell_type": "markdown",
   "metadata": {},
   "source": [
    "Для начала выведем нулевую и альтернативную гипотезы:\n",
    "- H0: различий в конверсии между группами нет\n",
    "- H1: различия в конверсии между группами есть \n",
    "\n",
    "Уровень значимости примем за 0.05"
   ]
  },
  {
   "cell_type": "code",
   "execution_count": 30,
   "metadata": {},
   "outputs": [
    {
     "name": "stdout",
     "output_type": "stream",
     "text": [
      "p-value = 0.01679\n",
      "Относительное различие в среднем между группами = 0.138\n"
     ]
    }
   ],
   "source": [
    "# Посчитаем статистическую значимость различий в конверсии между группами по «сырым» данным\n",
    "visitorsADaily = visitors[visitors['group'] == 'A'][['date', 'visitors']]\n",
    "visitorsADaily.columns = ['date', 'visitorsPerDateA']\n",
    "\n",
    "visitorsACummulative = visitorsADaily.apply(\n",
    "    lambda x: visitorsADaily[visitorsADaily['date'] <= x['date']].agg(\n",
    "        {'date': 'max', 'visitorsPerDateA': 'sum'}\n",
    "    ),\n",
    "    axis=1,\n",
    ")\n",
    "visitorsACummulative.columns = ['date', 'visitorsCummulativeA']\n",
    "\n",
    "visitorsBDaily = visitors[visitors['group'] == 'B'][['date', 'visitors']]\n",
    "visitorsBDaily.columns = ['date', 'visitorsPerDateB']\n",
    "\n",
    "visitorsBCummulative = visitorsBDaily.apply(\n",
    "    lambda x: visitorsBDaily[visitorsBDaily['date'] <= x['date']].agg(\n",
    "        {'date': 'max', 'visitorsPerDateB': 'sum'}\n",
    "    ),\n",
    "    axis=1,\n",
    ")\n",
    "visitorsBCummulative.columns = ['date', 'visitorsCummulativeB']\n",
    "\n",
    "ordersADaily = (\n",
    "    orders[orders['group'] == 'A'][['date', 'transactionId', 'visitorId', 'revenue']]\n",
    "    .groupby('date', as_index=False)\n",
    "    .agg({'transactionId': pd.Series.nunique, 'revenue': 'sum'})\n",
    ")\n",
    "ordersADaily.columns = ['date', 'ordersPerDateA', 'revenuePerDateA']\n",
    "\n",
    "ordersACummulative = ordersADaily.apply(\n",
    "    lambda x: ordersADaily[ordersADaily['date'] <= x['date']].agg(\n",
    "        {'date': 'max', 'ordersPerDateA': 'sum', 'revenuePerDateA': 'sum'}\n",
    "    ),\n",
    "    axis=1,\n",
    ").sort_values(by=['date'])\n",
    "ordersACummulative.columns = [\n",
    "    'date',\n",
    "    'ordersCummulativeA',\n",
    "    'revenueCummulativeA',\n",
    "]\n",
    "\n",
    "ordersBDaily = (\n",
    "    orders[orders['group'] == 'B'][['date', 'transactionId', 'visitorId', 'revenue']]\n",
    "    .groupby('date', as_index=False)\n",
    "    .agg({'transactionId': pd.Series.nunique, 'revenue': 'sum'})\n",
    ")\n",
    "ordersBDaily.columns = ['date', 'ordersPerDateB', 'revenuePerDateB']\n",
    "\n",
    "ordersBCummulative = ordersBDaily.apply(\n",
    "    lambda x: ordersBDaily[ordersBDaily['date'] <= x['date']].agg(\n",
    "        {'date': 'max', 'ordersPerDateB': 'sum', 'revenuePerDateB': 'sum'}\n",
    "    ),\n",
    "    axis=1,\n",
    ").sort_values(by=['date'])\n",
    "ordersBCummulative.columns = [\n",
    "    'date',\n",
    "    'ordersCummulativeB',\n",
    "    'revenueCummulativeB',\n",
    "]\n",
    "\n",
    "data = (\n",
    "    ordersADaily.merge(\n",
    "        ordersBDaily, left_on='date', right_on='date', how='left'\n",
    "    )\n",
    "    .merge(ordersACummulative, left_on='date', right_on='date', how='left')\n",
    "    .merge(ordersBCummulative, left_on='date', right_on='date', how='left')\n",
    "    .merge(visitorsADaily, left_on='date', right_on='date', how='left')\n",
    "    .merge(visitorsBDaily, left_on='date', right_on='date', how='left')\n",
    "    .merge(visitorsACummulative, left_on='date', right_on='date', how='left')\n",
    "    .merge(visitorsBCummulative, left_on='date', right_on='date', how='left')\n",
    ")\n",
    "\n",
    "# display(data.head(5))\n",
    "ordersByUsersA = (\n",
    "    orders[orders['group'] == 'A']\n",
    "    .groupby('visitorId', as_index=False)\n",
    "    .agg({'transactionId': pd.Series.nunique})\n",
    ")\n",
    "ordersByUsersA.columns = ['visitorId', 'orders']\n",
    "\n",
    "ordersByUsersB = (\n",
    "    orders[orders['group'] == 'B']\n",
    "    .groupby('visitorId', as_index=False)\n",
    "    .agg({'transactionId': pd.Series.nunique})\n",
    ")\n",
    "ordersByUsersB.columns = ['visitorId', 'orders'] \n",
    "\n",
    "\n",
    "sampleA = pd.concat([ordersByUsersA['orders'],pd.Series(0, index=np.arange(data['visitorsPerDateA'].sum() - len(ordersByUsersA['orders'])), name='orders')],axis=0)\n",
    "\n",
    "sampleB = pd.concat([ordersByUsersB['orders'],pd.Series(0, index=np.arange(data['visitorsPerDateB'].sum() - len(ordersByUsersB['orders'])), name='orders')],axis=0) \n",
    "\n",
    "print(\"p-value = {0:.5f}\".format(stats.mannwhitneyu(sampleA, sampleB)[1]))\n",
    "print(\"Относительное различие в среднем между группами = {0:.3f}\".format(sampleB.mean() / sampleA.mean() - 1))"
   ]
  },
  {
   "cell_type": "markdown",
   "metadata": {},
   "source": [
    "Вывод:\n",
    "- p-value меньше 0.05, имеются основания отвергнуть нулевую гипотезу в пользу альтернативной. Следовательно, различия в конверсии между группами есть\n",
    "- Прирост среднего группы В к конверсии группы А равен 13,8%. "
   ]
  },
  {
   "cell_type": "markdown",
   "metadata": {},
   "source": [
    "# 11 Посчитайте статистическую значимость различий в среднем чеке заказа между группами по «сырым» данным. Сделайте выводы и предположения."
   ]
  },
  {
   "cell_type": "markdown",
   "metadata": {},
   "source": [
    "Для начала выведем нулевую и альтернативную гипотезы:\n",
    "- H0: различий в среднем чеке между группами нет\n",
    "- H1: различия в среднем чеке между группами есть \n",
    "\n",
    "Уровень значимости примем за 0.05"
   ]
  },
  {
   "cell_type": "code",
   "execution_count": 31,
   "metadata": {},
   "outputs": [
    {
     "name": "stdout",
     "output_type": "stream",
     "text": [
      "p-value = 0.729\n",
      "0.259\n"
     ]
    }
   ],
   "source": [
    "#считаем статистическую значимость \n",
    "print('p-value = {0:.3f}'.format(stats.mannwhitneyu(orders[orders['group']=='A']['revenue'], orders[orders['group']=='B']['revenue'])[1]))\n",
    "print('{0:.3f}'.format(orders[orders['group']=='B']['revenue'].mean()/orders[orders['group']=='A']['revenue'].mean()-1))"
   ]
  },
  {
   "cell_type": "markdown",
   "metadata": {},
   "source": [
    "Вывод: \n",
    "- p-value больше 0.05, недостаточно оснований, чтобы отвергнуть нулевую гипотезу в пользу альтернативной.Следовательно, различий в среднем чеке между группами нет. Это можно объяснить тем, что разница среднего чека в двух группах небольшая\n",
    "- Относительный прирост среднего чека группы В к среднему чеку группы А равен 25,9%. "
   ]
  },
  {
   "cell_type": "markdown",
   "metadata": {},
   "source": [
    "# 12 Посчитайте статистическую значимость различий в конверсии между группами по «очищенным» данным. Сделайте выводы и предположения."
   ]
  },
  {
   "cell_type": "code",
   "execution_count": 32,
   "metadata": {},
   "outputs": [
    {
     "name": "stdout",
     "output_type": "stream",
     "text": [
      "1099    148427295\n",
      "18      199603092\n",
      "928     204675465\n",
      "23      237748145\n",
      "684     358944393\n",
      "Name: visitorId, dtype: int64\n"
     ]
    }
   ],
   "source": [
    "ordersByUsersA = (\n",
    "    orders[orders['group'] == 'A']\n",
    "    .groupby('visitorId', as_index=False)\n",
    "    .agg({'transactionId': pd.Series.nunique})\n",
    ")\n",
    "ordersByUsersA.columns = ['visitorId', 'transactionId']\n",
    "\n",
    "ordersByUsersB = (\n",
    "    orders[orders['group'] == 'B']\n",
    "    .groupby('visitorId', as_index=False)\n",
    "    .agg({'transactionId': pd.Series.nunique})\n",
    ")\n",
    "ordersByUsersB.columns = ['visitorId', 'transactionId']\n",
    "usersWithManyOrders = pd.concat(\n",
    "    [\n",
    "        ordersByUsersA[ordersByUsersA['transactionId'] > 3]['visitorId'],\n",
    "        ordersByUsersB[ordersByUsersB['transactionId'] > 3]['visitorId'],\n",
    "    ],\n",
    "    axis=0,\n",
    ")\n",
    "usersWithExpensiveOrders = orders[orders['revenue'] > 28000]['visitorId']\n",
    "abnormalUsers = (\n",
    "    pd.concat([usersWithManyOrders, usersWithExpensiveOrders], axis=0)\n",
    "    .drop_duplicates()\n",
    "    .sort_values()\n",
    ")\n",
    "print(abnormalUsers.head(5))"
   ]
  },
  {
   "cell_type": "code",
   "execution_count": 33,
   "metadata": {},
   "outputs": [
    {
     "name": "stdout",
     "output_type": "stream",
     "text": [
      "p-value 0.01794\n",
      "0.148\n"
     ]
    }
   ],
   "source": [
    "# Посчитаем статистическую значимость различий в конверсии между группами по «очищенным» данным\n",
    "sampleAFiltered = pd.concat(\n",
    "    [\n",
    "        ordersByUsersA[\n",
    "            np.logical_not(ordersByUsersA['visitorId'].isin(abnormalUsers))\n",
    "        ]['transactionId'],\n",
    "        pd.Series(\n",
    "            0,\n",
    "            index=np.arange(\n",
    "                data['visitorsPerDateA'].sum() - len(ordersByUsersA['transactionId'])\n",
    "            ),\n",
    "            name='transactionId',\n",
    "        ),\n",
    "    ],\n",
    "    axis=0,\n",
    ")\n",
    "\n",
    "sampleBFiltered = pd.concat(\n",
    "    [\n",
    "        ordersByUsersB[\n",
    "            np.logical_not(ordersByUsersB['visitorId'].isin(abnormalUsers))\n",
    "        ]['transactionId'],\n",
    "        pd.Series(\n",
    "            0,\n",
    "            index=np.arange(\n",
    "                data['visitorsPerDateB'].sum() - len(ordersByUsersB['transactionId'])\n",
    "            ),\n",
    "            name='transactionId',\n",
    "        ),\n",
    "    ],\n",
    "    axis=0,\n",
    ")\n",
    "print('p-value','{0:.5f}'.format(stats.mannwhitneyu(sampleAFiltered, sampleBFiltered)[1]))\n",
    "print('{0:.3f}'.format(sampleBFiltered.mean()/sampleAFiltered.mean()-1))"
   ]
  },
  {
   "cell_type": "markdown",
   "metadata": {},
   "source": [
    "Вывод:\n",
    "- p-value меньше 0.05, можно отвергнуть теорию о том, что выборки равны. \n",
    "- Конверся в группе В в среднем отличается от конверсии в группе А на 14,8 процентов"
   ]
  },
  {
   "cell_type": "markdown",
   "metadata": {},
   "source": [
    "# 13 Посчитайте статистическую значимость различий в среднем чеке заказа между группами по «очищенным» данным. Сделайте выводы и предположения."
   ]
  },
  {
   "cell_type": "code",
   "execution_count": 34,
   "metadata": {},
   "outputs": [
    {
     "name": "stdout",
     "output_type": "stream",
     "text": [
      "p-value: 0.977\n",
      "-0.017\n"
     ]
    }
   ],
   "source": [
    "print('p-value:',\n",
    "    '{0:.3f}'.format(\n",
    "        stats.mannwhitneyu(\n",
    "            orders[\n",
    "                np.logical_and(\n",
    "                    orders['group'] == 'A',\n",
    "                    np.logical_not(orders['visitorId'].isin(abnormalUsers)),\n",
    "                )\n",
    "            ]['revenue'],\n",
    "            orders[\n",
    "                np.logical_and(\n",
    "                    orders['group'] == 'B',\n",
    "                    np.logical_not(orders['visitorId'].isin(abnormalUsers)),\n",
    "                )\n",
    "            ]['revenue'],\n",
    "        )[1]\n",
    "    )\n",
    ")\n",
    "\n",
    "print(\n",
    "    \"{0:.3f}\".format(\n",
    "        orders[\n",
    "            np.logical_and(\n",
    "                orders['group'] == 'B',\n",
    "                np.logical_not(orders['visitorId'].isin(abnormalUsers)),\n",
    "            )\n",
    "        ]['revenue'].mean()\n",
    "        / orders[\n",
    "            np.logical_and(\n",
    "                orders['group'] == 'A',\n",
    "                np.logical_not(orders['visitorId'].isin(abnormalUsers)),\n",
    "            )\n",
    "        ]['revenue'].mean()\n",
    "        - 1\n",
    "    )\n",
    ")"
   ]
  },
  {
   "cell_type": "markdown",
   "metadata": {},
   "source": [
    "Вывод:\n",
    "- p-value больше 0.05, следовательно, можно сделать вывод, что различий между группами нет.\n",
    "- По данным конверсии сделаем вывод, что различия между группами есть, а по среднему чеку - нет\n",
    "- Относительный прирост среднего чека группы В к среднему чеку группы А меньше 0. Такое различие с сырыми данными может быть связано с выбросами. "
   ]
  },
  {
   "cell_type": "markdown",
   "metadata": {},
   "source": [
    "# 14 Примите решение по результатам теста и объясните его. "
   ]
  },
  {
   "cell_type": "markdown",
   "metadata": {},
   "source": [
    "Варианты решений: \n",
    "1. Остановить тест, зафиксировать победу одной из групп. \n",
    "2. Остановить тест, зафиксировать отсутствие различий между группами. \n",
    "3. Продолжить тест."
   ]
  },
  {
   "cell_type": "markdown",
   "metadata": {},
   "source": [
    "# 15 Результирующий вывод:"
   ]
  },
  {
   "cell_type": "markdown",
   "metadata": {},
   "source": [
    "1. Приоритизация гипотез\n",
    "- Применяя фреймворк ICE, были выделены самые перспективные гипотезы - 8,0,7;\n",
    "- Применяя фреймворк RICE, были выделены самые перспективные гипотезы - 7,2,0,6.\n",
    "\n",
    "2. Анализ А/В теста\n",
    "- Выручка почти равномерно увеличивается в течение всего теста;\n",
    "- При постоении графика кумулятивной конверсии было заметно, что на протяжении почти всего теста группа В лидировала;\n",
    "- Конверсия в группе B стабильно выше конверсии в группе A на 10% по просшествии 1 недели;\n",
    "- Большинство пользователей делали 1-2 заказа. Также некоторая малая доля пользователей делали от 3 до 5 заказов. Однако есть пользователи совершившие 8,9 и даже 11 заказов, примем это число за выбросы;\n",
    "- Большая часть заказов не превышает сумму в 20 тыс рублей;\n",
    "\n",
    "По графикам:\n",
    "- График различия конверсии между группами сообщает, что группа B лидирует относительно группы A; График различия среднего чека колеблется: благодаря этому были выведены аномалии. \n",
    "- График различия среднего чека неоднозначный, колеблется, исходя из представленных результатов, получилось выделить аномальные значения.\n",
    "\n",
    "По гипотезам:\n",
    "- Нет статистически значимого различия по среднему чеку в группах и в «сырых», и в отфильтрованных данных.\n",
    "- Есть статистически значимое различие по средней конверсии в группах и в «сырых», и в отфильтрованных данных.\n",
    "\n",
    "По выигрышной группе:\n",
    "\n",
    "- По проводимому тесту и по объему данных, можно убедиться, что средний чек не меняется, а конверсия гораздо выше в группе В.\n",
    "- Таким образом, с ростом конверсии будет расти и выручка, поэтому тест можно остановить и зафиксировать победу группы В."
   ]
  }
 ],
 "metadata": {
  "ExecuteTimeLog": [
   {
    "duration": 4,
    "start_time": "2022-10-01T19:41:49.794Z"
   },
   {
    "duration": 492,
    "start_time": "2022-10-01T19:42:57.518Z"
   },
   {
    "duration": 13,
    "start_time": "2022-10-01T19:43:03.888Z"
   },
   {
    "duration": 8,
    "start_time": "2022-10-01T19:45:05.802Z"
   },
   {
    "duration": 65,
    "start_time": "2022-10-01T19:48:02.824Z"
   },
   {
    "duration": 594,
    "start_time": "2022-10-01T19:48:12.373Z"
   },
   {
    "duration": 16,
    "start_time": "2022-10-01T19:48:12.969Z"
   },
   {
    "duration": 81,
    "start_time": "2022-10-01T19:48:38.434Z"
   },
   {
    "duration": 9,
    "start_time": "2022-10-01T19:48:39.057Z"
   },
   {
    "duration": 8,
    "start_time": "2022-10-01T19:49:21.355Z"
   },
   {
    "duration": 8,
    "start_time": "2022-10-01T19:49:22.574Z"
   },
   {
    "duration": 4,
    "start_time": "2022-10-01T19:52:11.463Z"
   },
   {
    "duration": 6,
    "start_time": "2022-10-01T19:52:16.001Z"
   },
   {
    "duration": 1233,
    "start_time": "2022-10-01T19:52:18.065Z"
   },
   {
    "duration": 17,
    "start_time": "2022-10-01T19:52:37.005Z"
   },
   {
    "duration": 11,
    "start_time": "2022-10-01T19:53:07.763Z"
   },
   {
    "duration": 11,
    "start_time": "2022-10-01T19:53:22.970Z"
   },
   {
    "duration": 10,
    "start_time": "2022-10-01T19:53:28.163Z"
   },
   {
    "duration": 15,
    "start_time": "2022-10-01T19:53:34.981Z"
   },
   {
    "duration": 74,
    "start_time": "2022-10-01T19:59:16.774Z"
   },
   {
    "duration": 13,
    "start_time": "2022-10-01T19:59:21.818Z"
   },
   {
    "duration": 473,
    "start_time": "2022-10-01T20:00:15.329Z"
   },
   {
    "duration": 16,
    "start_time": "2022-10-01T20:00:15.805Z"
   },
   {
    "duration": 9,
    "start_time": "2022-10-01T20:00:15.822Z"
   },
   {
    "duration": 12,
    "start_time": "2022-10-01T20:00:15.832Z"
   },
   {
    "duration": 13,
    "start_time": "2022-10-01T20:00:15.846Z"
   },
   {
    "duration": 33,
    "start_time": "2022-10-01T20:00:15.861Z"
   },
   {
    "duration": 96,
    "start_time": "2022-10-01T20:10:33.124Z"
   },
   {
    "duration": 183,
    "start_time": "2022-10-01T20:11:19.661Z"
   },
   {
    "duration": 191,
    "start_time": "2022-10-01T20:12:20.145Z"
   },
   {
    "duration": 151,
    "start_time": "2022-10-01T20:16:08.787Z"
   },
   {
    "duration": 7,
    "start_time": "2022-10-01T20:18:00.176Z"
   },
   {
    "duration": 865,
    "start_time": "2022-10-01T20:18:42.751Z"
   },
   {
    "duration": 14,
    "start_time": "2022-10-01T20:18:43.618Z"
   },
   {
    "duration": 8,
    "start_time": "2022-10-01T20:18:43.634Z"
   },
   {
    "duration": 8,
    "start_time": "2022-10-01T20:18:43.645Z"
   },
   {
    "duration": 16,
    "start_time": "2022-10-01T20:18:43.654Z"
   },
   {
    "duration": 17,
    "start_time": "2022-10-01T20:18:43.672Z"
   },
   {
    "duration": 230,
    "start_time": "2022-10-01T20:18:43.691Z"
   },
   {
    "duration": 146,
    "start_time": "2022-10-01T20:18:43.923Z"
   },
   {
    "duration": 26,
    "start_time": "2022-10-01T20:18:44.071Z"
   },
   {
    "duration": 314,
    "start_time": "2022-10-01T20:22:34.601Z"
   },
   {
    "duration": 88,
    "start_time": "2022-10-01T20:26:12.207Z"
   },
   {
    "duration": 6,
    "start_time": "2022-10-01T20:27:05.781Z"
   },
   {
    "duration": 266,
    "start_time": "2022-10-01T20:27:27.111Z"
   },
   {
    "duration": 388,
    "start_time": "2022-10-01T20:28:16.895Z"
   },
   {
    "duration": 427,
    "start_time": "2022-10-01T20:28:27.252Z"
   },
   {
    "duration": 373,
    "start_time": "2022-10-01T20:28:36.456Z"
   },
   {
    "duration": 273,
    "start_time": "2022-10-01T20:29:04.123Z"
   },
   {
    "duration": 282,
    "start_time": "2022-10-01T20:29:21.402Z"
   },
   {
    "duration": 298,
    "start_time": "2022-10-01T20:31:35.725Z"
   },
   {
    "duration": 309,
    "start_time": "2022-10-01T20:31:57.288Z"
   },
   {
    "duration": 704,
    "start_time": "2022-10-01T20:33:54.232Z"
   },
   {
    "duration": 11,
    "start_time": "2022-10-01T20:33:54.938Z"
   },
   {
    "duration": 49,
    "start_time": "2022-10-01T20:33:54.951Z"
   },
   {
    "duration": 42,
    "start_time": "2022-10-01T20:33:55.001Z"
   },
   {
    "duration": 22,
    "start_time": "2022-10-01T20:33:55.045Z"
   },
   {
    "duration": 21,
    "start_time": "2022-10-01T20:33:55.069Z"
   },
   {
    "duration": 217,
    "start_time": "2022-10-01T20:33:55.092Z"
   },
   {
    "duration": 148,
    "start_time": "2022-10-01T20:33:55.311Z"
   },
   {
    "duration": 7,
    "start_time": "2022-10-01T20:33:55.461Z"
   },
   {
    "duration": 19,
    "start_time": "2022-10-01T20:33:55.470Z"
   },
   {
    "duration": 328,
    "start_time": "2022-10-01T20:33:55.491Z"
   },
   {
    "duration": 13,
    "start_time": "2022-10-01T20:35:27.034Z"
   },
   {
    "duration": 765,
    "start_time": "2022-10-01T20:35:35.685Z"
   },
   {
    "duration": 13,
    "start_time": "2022-10-01T20:35:36.452Z"
   },
   {
    "duration": 10,
    "start_time": "2022-10-01T20:35:36.466Z"
   },
   {
    "duration": 12,
    "start_time": "2022-10-01T20:35:36.478Z"
   },
   {
    "duration": 13,
    "start_time": "2022-10-01T20:35:36.492Z"
   },
   {
    "duration": 11,
    "start_time": "2022-10-01T20:35:36.506Z"
   },
   {
    "duration": 203,
    "start_time": "2022-10-01T20:35:36.518Z"
   },
   {
    "duration": 135,
    "start_time": "2022-10-01T20:35:36.723Z"
   },
   {
    "duration": 33,
    "start_time": "2022-10-01T20:35:36.859Z"
   },
   {
    "duration": 98,
    "start_time": "2022-10-01T20:35:36.893Z"
   },
   {
    "duration": 0,
    "start_time": "2022-10-01T20:35:36.993Z"
   },
   {
    "duration": 13,
    "start_time": "2022-10-01T20:37:11.408Z"
   },
   {
    "duration": 9,
    "start_time": "2022-10-01T20:37:11.900Z"
   },
   {
    "duration": 332,
    "start_time": "2022-10-01T20:37:12.293Z"
   },
   {
    "duration": 332,
    "start_time": "2022-10-01T20:51:19.099Z"
   },
   {
    "duration": 277,
    "start_time": "2022-10-01T20:55:27.448Z"
   },
   {
    "duration": 281,
    "start_time": "2022-10-01T20:55:52.513Z"
   },
   {
    "duration": 334,
    "start_time": "2022-10-01T20:56:15.532Z"
   },
   {
    "duration": 81,
    "start_time": "2022-10-01T20:57:54.200Z"
   },
   {
    "duration": 8,
    "start_time": "2022-10-01T20:59:26.059Z"
   },
   {
    "duration": 11,
    "start_time": "2022-10-01T20:59:41.418Z"
   },
   {
    "duration": 731,
    "start_time": "2022-10-01T21:00:28.040Z"
   },
   {
    "duration": 12,
    "start_time": "2022-10-01T21:00:28.773Z"
   },
   {
    "duration": 8,
    "start_time": "2022-10-01T21:00:28.786Z"
   },
   {
    "duration": 10,
    "start_time": "2022-10-01T21:00:28.796Z"
   },
   {
    "duration": 14,
    "start_time": "2022-10-01T21:00:28.807Z"
   },
   {
    "duration": 10,
    "start_time": "2022-10-01T21:00:28.823Z"
   },
   {
    "duration": 9,
    "start_time": "2022-10-01T21:00:28.835Z"
   },
   {
    "duration": 12,
    "start_time": "2022-10-01T21:00:28.846Z"
   },
   {
    "duration": 205,
    "start_time": "2022-10-01T21:00:28.889Z"
   },
   {
    "duration": 133,
    "start_time": "2022-10-01T21:00:29.096Z"
   },
   {
    "duration": 12,
    "start_time": "2022-10-01T21:00:29.231Z"
   },
   {
    "duration": 7,
    "start_time": "2022-10-01T21:00:29.245Z"
   },
   {
    "duration": 339,
    "start_time": "2022-10-01T21:00:29.254Z"
   },
   {
    "duration": 314,
    "start_time": "2022-10-01T21:00:29.595Z"
   },
   {
    "duration": 1277,
    "start_time": "2022-10-01T21:02:25.324Z"
   },
   {
    "duration": 12,
    "start_time": "2022-10-01T21:08:39.983Z"
   },
   {
    "duration": 1279,
    "start_time": "2022-10-01T21:10:44.380Z"
   },
   {
    "duration": 321,
    "start_time": "2022-10-01T21:12:51.282Z"
   },
   {
    "duration": 97,
    "start_time": "2022-10-01T21:14:14.785Z"
   },
   {
    "duration": 1355,
    "start_time": "2022-10-01T21:14:23.211Z"
   },
   {
    "duration": 1184,
    "start_time": "2022-10-01T21:15:27.141Z"
   },
   {
    "duration": 8,
    "start_time": "2022-10-01T21:19:56.714Z"
   },
   {
    "duration": 398,
    "start_time": "2022-10-01T21:20:47.264Z"
   },
   {
    "duration": 440,
    "start_time": "2022-10-01T21:22:03.281Z"
   },
   {
    "duration": 418,
    "start_time": "2022-10-01T21:23:25.282Z"
   },
   {
    "duration": 417,
    "start_time": "2022-10-01T21:24:02.183Z"
   },
   {
    "duration": 434,
    "start_time": "2022-10-01T21:24:10.459Z"
   },
   {
    "duration": 763,
    "start_time": "2022-10-01T21:26:46.769Z"
   },
   {
    "duration": 13,
    "start_time": "2022-10-01T21:26:47.534Z"
   },
   {
    "duration": 9,
    "start_time": "2022-10-01T21:26:47.548Z"
   },
   {
    "duration": 12,
    "start_time": "2022-10-01T21:26:47.560Z"
   },
   {
    "duration": 15,
    "start_time": "2022-10-01T21:26:47.574Z"
   },
   {
    "duration": 13,
    "start_time": "2022-10-01T21:26:47.591Z"
   },
   {
    "duration": 8,
    "start_time": "2022-10-01T21:26:47.606Z"
   },
   {
    "duration": 15,
    "start_time": "2022-10-01T21:26:47.616Z"
   },
   {
    "duration": 222,
    "start_time": "2022-10-01T21:26:47.633Z"
   },
   {
    "duration": 139,
    "start_time": "2022-10-01T21:26:47.858Z"
   },
   {
    "duration": 14,
    "start_time": "2022-10-01T21:26:47.998Z"
   },
   {
    "duration": 10,
    "start_time": "2022-10-01T21:26:48.014Z"
   },
   {
    "duration": 370,
    "start_time": "2022-10-01T21:26:48.026Z"
   },
   {
    "duration": 320,
    "start_time": "2022-10-01T21:26:48.398Z"
   },
   {
    "duration": 83,
    "start_time": "2022-10-01T21:26:48.720Z"
   },
   {
    "duration": 0,
    "start_time": "2022-10-01T21:26:48.805Z"
   },
   {
    "duration": 846,
    "start_time": "2022-10-01T21:27:01.282Z"
   },
   {
    "duration": 17,
    "start_time": "2022-10-01T21:27:02.131Z"
   },
   {
    "duration": 23,
    "start_time": "2022-10-01T21:27:02.150Z"
   },
   {
    "duration": 19,
    "start_time": "2022-10-01T21:27:02.176Z"
   },
   {
    "duration": 29,
    "start_time": "2022-10-01T21:27:02.197Z"
   },
   {
    "duration": 17,
    "start_time": "2022-10-01T21:27:02.228Z"
   },
   {
    "duration": 14,
    "start_time": "2022-10-01T21:27:02.247Z"
   },
   {
    "duration": 29,
    "start_time": "2022-10-01T21:27:02.263Z"
   },
   {
    "duration": 242,
    "start_time": "2022-10-01T21:27:02.294Z"
   },
   {
    "duration": 151,
    "start_time": "2022-10-01T21:27:02.539Z"
   },
   {
    "duration": 16,
    "start_time": "2022-10-01T21:27:02.693Z"
   },
   {
    "duration": 37,
    "start_time": "2022-10-01T21:27:02.711Z"
   },
   {
    "duration": 367,
    "start_time": "2022-10-01T21:27:02.750Z"
   },
   {
    "duration": 317,
    "start_time": "2022-10-01T21:27:03.119Z"
   },
   {
    "duration": 410,
    "start_time": "2022-10-01T21:27:03.438Z"
   },
   {
    "duration": 84,
    "start_time": "2022-10-01T21:28:40.709Z"
   },
   {
    "duration": 9,
    "start_time": "2022-10-01T21:29:03.672Z"
   },
   {
    "duration": 9,
    "start_time": "2022-10-01T21:29:26.474Z"
   },
   {
    "duration": 7,
    "start_time": "2022-10-01T21:29:38.195Z"
   },
   {
    "duration": 275,
    "start_time": "2022-10-01T21:29:39.601Z"
   },
   {
    "duration": 380,
    "start_time": "2022-10-01T21:31:02.389Z"
   },
   {
    "duration": 14,
    "start_time": "2022-10-01T21:35:22.828Z"
   },
   {
    "duration": 8,
    "start_time": "2022-10-01T21:36:04.416Z"
   },
   {
    "duration": 271,
    "start_time": "2022-10-01T21:36:05.207Z"
   },
   {
    "duration": 760,
    "start_time": "2022-10-01T21:38:19.509Z"
   },
   {
    "duration": 13,
    "start_time": "2022-10-01T21:38:20.271Z"
   },
   {
    "duration": 12,
    "start_time": "2022-10-01T21:38:20.286Z"
   },
   {
    "duration": 20,
    "start_time": "2022-10-01T21:38:20.300Z"
   },
   {
    "duration": 20,
    "start_time": "2022-10-01T21:38:20.322Z"
   },
   {
    "duration": 16,
    "start_time": "2022-10-01T21:38:20.344Z"
   },
   {
    "duration": 8,
    "start_time": "2022-10-01T21:38:20.362Z"
   },
   {
    "duration": 15,
    "start_time": "2022-10-01T21:38:20.390Z"
   },
   {
    "duration": 218,
    "start_time": "2022-10-01T21:38:20.407Z"
   },
   {
    "duration": 162,
    "start_time": "2022-10-01T21:38:20.627Z"
   },
   {
    "duration": 16,
    "start_time": "2022-10-01T21:38:20.791Z"
   },
   {
    "duration": 14,
    "start_time": "2022-10-01T21:38:20.809Z"
   },
   {
    "duration": 356,
    "start_time": "2022-10-01T21:38:20.826Z"
   },
   {
    "duration": 328,
    "start_time": "2022-10-01T21:38:21.189Z"
   },
   {
    "duration": 419,
    "start_time": "2022-10-01T21:38:21.519Z"
   },
   {
    "duration": 9,
    "start_time": "2022-10-01T21:38:21.940Z"
   },
   {
    "duration": 365,
    "start_time": "2022-10-01T21:38:21.954Z"
   },
   {
    "duration": 8,
    "start_time": "2022-10-01T21:38:22.321Z"
   },
   {
    "duration": 351,
    "start_time": "2022-10-01T21:38:22.330Z"
   },
   {
    "duration": 478,
    "start_time": "2022-10-01T21:38:39.130Z"
   },
   {
    "duration": 403,
    "start_time": "2022-10-01T21:40:11.645Z"
   },
   {
    "duration": 166,
    "start_time": "2022-10-01T21:40:24.805Z"
   },
   {
    "duration": 158,
    "start_time": "2022-10-01T21:40:37.093Z"
   },
   {
    "duration": 152,
    "start_time": "2022-10-01T21:41:00.420Z"
   },
   {
    "duration": 329,
    "start_time": "2022-10-01T21:41:15.284Z"
   },
   {
    "duration": 338,
    "start_time": "2022-10-01T21:41:31.852Z"
   },
   {
    "duration": 364,
    "start_time": "2022-10-01T21:41:51.720Z"
   },
   {
    "duration": 361,
    "start_time": "2022-10-01T21:42:57.950Z"
   },
   {
    "duration": 1207,
    "start_time": "2022-10-01T22:28:04.202Z"
   },
   {
    "duration": 13,
    "start_time": "2022-10-01T22:28:05.411Z"
   },
   {
    "duration": 10,
    "start_time": "2022-10-01T22:28:05.427Z"
   },
   {
    "duration": 11,
    "start_time": "2022-10-01T22:28:05.440Z"
   },
   {
    "duration": 19,
    "start_time": "2022-10-01T22:28:05.453Z"
   },
   {
    "duration": 26,
    "start_time": "2022-10-01T22:28:05.474Z"
   },
   {
    "duration": 8,
    "start_time": "2022-10-01T22:28:05.502Z"
   },
   {
    "duration": 12,
    "start_time": "2022-10-01T22:28:05.512Z"
   },
   {
    "duration": 228,
    "start_time": "2022-10-01T22:28:05.526Z"
   },
   {
    "duration": 135,
    "start_time": "2022-10-01T22:28:05.756Z"
   },
   {
    "duration": 13,
    "start_time": "2022-10-01T22:28:05.893Z"
   },
   {
    "duration": 12,
    "start_time": "2022-10-01T22:28:05.908Z"
   },
   {
    "duration": 343,
    "start_time": "2022-10-01T22:28:05.922Z"
   },
   {
    "duration": 331,
    "start_time": "2022-10-01T22:28:06.266Z"
   },
   {
    "duration": 403,
    "start_time": "2022-10-01T22:28:06.599Z"
   },
   {
    "duration": 7,
    "start_time": "2022-10-01T22:28:07.004Z"
   },
   {
    "duration": 399,
    "start_time": "2022-10-01T22:28:07.013Z"
   },
   {
    "duration": 9,
    "start_time": "2022-10-01T22:28:07.414Z"
   },
   {
    "duration": 334,
    "start_time": "2022-10-01T22:28:07.425Z"
   },
   {
    "duration": 6,
    "start_time": "2022-10-01T22:31:12.643Z"
   },
   {
    "duration": 1237,
    "start_time": "2022-10-01T22:31:18.844Z"
   },
   {
    "duration": 14,
    "start_time": "2022-10-01T22:31:20.083Z"
   },
   {
    "duration": 12,
    "start_time": "2022-10-01T22:31:20.099Z"
   },
   {
    "duration": 11,
    "start_time": "2022-10-01T22:31:20.114Z"
   },
   {
    "duration": 11,
    "start_time": "2022-10-01T22:31:20.127Z"
   },
   {
    "duration": 17,
    "start_time": "2022-10-01T22:31:20.140Z"
   },
   {
    "duration": 32,
    "start_time": "2022-10-01T22:31:20.158Z"
   },
   {
    "duration": 8,
    "start_time": "2022-10-01T22:31:20.192Z"
   },
   {
    "duration": 17,
    "start_time": "2022-10-01T22:31:20.201Z"
   },
   {
    "duration": 233,
    "start_time": "2022-10-01T22:31:20.220Z"
   },
   {
    "duration": 146,
    "start_time": "2022-10-01T22:31:20.454Z"
   },
   {
    "duration": 12,
    "start_time": "2022-10-01T22:31:20.602Z"
   },
   {
    "duration": 16,
    "start_time": "2022-10-01T22:31:20.616Z"
   },
   {
    "duration": 350,
    "start_time": "2022-10-01T22:31:20.634Z"
   },
   {
    "duration": 236,
    "start_time": "2022-10-01T22:31:20.985Z"
   },
   {
    "duration": 292,
    "start_time": "2022-10-01T22:31:21.222Z"
   },
   {
    "duration": 7,
    "start_time": "2022-10-01T22:31:21.516Z"
   },
   {
    "duration": 256,
    "start_time": "2022-10-01T22:31:21.525Z"
   },
   {
    "duration": 17,
    "start_time": "2022-10-01T22:31:21.783Z"
   },
   {
    "duration": 371,
    "start_time": "2022-10-01T22:31:21.802Z"
   },
   {
    "duration": 225,
    "start_time": "2022-10-01T22:33:36.093Z"
   },
   {
    "duration": 330,
    "start_time": "2022-10-01T22:35:16.314Z"
   },
   {
    "duration": 244,
    "start_time": "2022-10-01T22:36:30.770Z"
   },
   {
    "duration": 242,
    "start_time": "2022-10-01T22:37:19.364Z"
   },
   {
    "duration": 440,
    "start_time": "2022-10-01T22:37:43.799Z"
   },
   {
    "duration": 9,
    "start_time": "2022-10-01T22:39:13.909Z"
   },
   {
    "duration": 11,
    "start_time": "2022-10-01T22:39:27.948Z"
   },
   {
    "duration": 1332,
    "start_time": "2022-10-01T22:39:45.167Z"
   },
   {
    "duration": 175,
    "start_time": "2022-10-01T22:39:53.915Z"
   },
   {
    "duration": 155,
    "start_time": "2022-10-01T22:40:13.172Z"
   },
   {
    "duration": 5,
    "start_time": "2022-10-01T22:45:00.306Z"
   },
   {
    "duration": 5,
    "start_time": "2022-10-01T22:45:16.091Z"
   },
   {
    "duration": 5,
    "start_time": "2022-10-01T22:45:28.622Z"
   },
   {
    "duration": 166,
    "start_time": "2022-10-01T22:48:56.191Z"
   },
   {
    "duration": 176,
    "start_time": "2022-10-01T22:49:15.097Z"
   },
   {
    "duration": 173,
    "start_time": "2022-10-01T22:50:00.045Z"
   },
   {
    "duration": 185,
    "start_time": "2022-10-01T22:50:05.160Z"
   },
   {
    "duration": 169,
    "start_time": "2022-10-01T22:50:53.199Z"
   },
   {
    "duration": 154,
    "start_time": "2022-10-01T22:50:58.447Z"
   },
   {
    "duration": 6,
    "start_time": "2022-10-01T22:54:13.508Z"
   },
   {
    "duration": 11,
    "start_time": "2022-10-01T22:54:30.062Z"
   },
   {
    "duration": 4,
    "start_time": "2022-10-01T22:54:48.214Z"
   },
   {
    "duration": 6,
    "start_time": "2022-10-01T22:55:01.462Z"
   },
   {
    "duration": 6,
    "start_time": "2022-10-01T22:55:14.194Z"
   },
   {
    "duration": 114,
    "start_time": "2022-10-01T23:02:06.285Z"
   },
   {
    "duration": 112,
    "start_time": "2022-10-01T23:03:18.479Z"
   },
   {
    "duration": 117,
    "start_time": "2022-10-01T23:08:13.712Z"
   },
   {
    "duration": 110,
    "start_time": "2022-10-01T23:10:34.945Z"
   },
   {
    "duration": 159,
    "start_time": "2022-10-01T23:11:19.528Z"
   },
   {
    "duration": 233,
    "start_time": "2022-10-01T23:11:47.208Z"
   },
   {
    "duration": 250,
    "start_time": "2022-10-01T23:12:08.300Z"
   },
   {
    "duration": 243,
    "start_time": "2022-10-01T23:12:18.104Z"
   },
   {
    "duration": 368,
    "start_time": "2022-10-01T23:13:02.137Z"
   },
   {
    "duration": 11,
    "start_time": "2022-10-01T23:17:39.554Z"
   },
   {
    "duration": 11,
    "start_time": "2022-10-01T23:18:52.490Z"
   },
   {
    "duration": 166,
    "start_time": "2022-10-01T23:20:15.427Z"
   },
   {
    "duration": 109,
    "start_time": "2022-10-01T23:20:21.108Z"
   },
   {
    "duration": 10,
    "start_time": "2022-10-01T23:20:35.070Z"
   },
   {
    "duration": 176,
    "start_time": "2022-10-01T23:23:38.589Z"
   },
   {
    "duration": 29,
    "start_time": "2022-10-01T23:25:23.989Z"
   },
   {
    "duration": 29,
    "start_time": "2022-10-01T23:25:58.755Z"
   },
   {
    "duration": 14,
    "start_time": "2022-10-01T23:28:34.171Z"
   },
   {
    "duration": 15,
    "start_time": "2022-10-01T23:29:09.551Z"
   },
   {
    "duration": 1260,
    "start_time": "2022-10-01T23:42:40.795Z"
   },
   {
    "duration": 12,
    "start_time": "2022-10-01T23:42:42.057Z"
   },
   {
    "duration": 9,
    "start_time": "2022-10-01T23:42:42.070Z"
   },
   {
    "duration": 12,
    "start_time": "2022-10-01T23:42:42.081Z"
   },
   {
    "duration": 13,
    "start_time": "2022-10-01T23:42:42.095Z"
   },
   {
    "duration": 14,
    "start_time": "2022-10-01T23:42:42.110Z"
   },
   {
    "duration": 12,
    "start_time": "2022-10-01T23:42:42.126Z"
   },
   {
    "duration": 13,
    "start_time": "2022-10-01T23:42:42.140Z"
   },
   {
    "duration": 13,
    "start_time": "2022-10-01T23:42:42.155Z"
   },
   {
    "duration": 295,
    "start_time": "2022-10-01T23:42:42.172Z"
   },
   {
    "duration": 148,
    "start_time": "2022-10-01T23:42:42.469Z"
   },
   {
    "duration": 12,
    "start_time": "2022-10-01T23:42:42.619Z"
   },
   {
    "duration": 18,
    "start_time": "2022-10-01T23:42:42.633Z"
   },
   {
    "duration": 326,
    "start_time": "2022-10-01T23:42:42.653Z"
   },
   {
    "duration": 239,
    "start_time": "2022-10-01T23:42:42.980Z"
   },
   {
    "duration": 310,
    "start_time": "2022-10-01T23:42:43.221Z"
   },
   {
    "duration": 6,
    "start_time": "2022-10-01T23:42:43.533Z"
   },
   {
    "duration": 248,
    "start_time": "2022-10-01T23:42:43.541Z"
   },
   {
    "duration": 9,
    "start_time": "2022-10-01T23:42:43.790Z"
   },
   {
    "duration": 391,
    "start_time": "2022-10-01T23:42:43.801Z"
   },
   {
    "duration": 11,
    "start_time": "2022-10-01T23:42:44.194Z"
   },
   {
    "duration": 175,
    "start_time": "2022-10-01T23:42:44.207Z"
   },
   {
    "duration": 6,
    "start_time": "2022-10-01T23:42:44.388Z"
   },
   {
    "duration": 187,
    "start_time": "2022-10-01T23:42:44.395Z"
   },
   {
    "duration": 7,
    "start_time": "2022-10-01T23:42:44.589Z"
   },
   {
    "duration": 397,
    "start_time": "2022-10-01T23:42:44.598Z"
   },
   {
    "duration": 12,
    "start_time": "2022-10-01T23:42:44.997Z"
   },
   {
    "duration": 190,
    "start_time": "2022-10-01T23:42:45.014Z"
   },
   {
    "duration": 49,
    "start_time": "2022-10-01T23:42:45.206Z"
   },
   {
    "duration": 37,
    "start_time": "2022-10-01T23:42:45.257Z"
   },
   {
    "duration": 1395,
    "start_time": "2022-10-02T22:48:08.459Z"
   },
   {
    "duration": 11,
    "start_time": "2022-10-02T22:48:09.856Z"
   },
   {
    "duration": 18,
    "start_time": "2022-10-02T22:48:09.869Z"
   },
   {
    "duration": 21,
    "start_time": "2022-10-02T22:48:09.890Z"
   },
   {
    "duration": 7,
    "start_time": "2022-10-02T22:48:09.913Z"
   },
   {
    "duration": 17,
    "start_time": "2022-10-02T22:48:09.922Z"
   },
   {
    "duration": 12,
    "start_time": "2022-10-02T22:48:09.941Z"
   },
   {
    "duration": 10,
    "start_time": "2022-10-02T22:48:09.954Z"
   },
   {
    "duration": 36,
    "start_time": "2022-10-02T22:48:09.965Z"
   },
   {
    "duration": 242,
    "start_time": "2022-10-02T22:48:10.005Z"
   },
   {
    "duration": 146,
    "start_time": "2022-10-02T22:48:10.249Z"
   },
   {
    "duration": 23,
    "start_time": "2022-10-02T22:48:10.397Z"
   },
   {
    "duration": 14,
    "start_time": "2022-10-02T22:48:10.422Z"
   },
   {
    "duration": 382,
    "start_time": "2022-10-02T22:48:10.438Z"
   },
   {
    "duration": 296,
    "start_time": "2022-10-02T22:48:10.822Z"
   },
   {
    "duration": 357,
    "start_time": "2022-10-02T22:48:11.120Z"
   },
   {
    "duration": 11,
    "start_time": "2022-10-02T22:48:11.478Z"
   },
   {
    "duration": 311,
    "start_time": "2022-10-02T22:48:11.490Z"
   },
   {
    "duration": 11,
    "start_time": "2022-10-02T22:48:11.804Z"
   },
   {
    "duration": 408,
    "start_time": "2022-10-02T22:48:11.820Z"
   },
   {
    "duration": 13,
    "start_time": "2022-10-02T22:48:12.230Z"
   },
   {
    "duration": 200,
    "start_time": "2022-10-02T22:48:12.245Z"
   },
   {
    "duration": 6,
    "start_time": "2022-10-02T22:48:12.447Z"
   },
   {
    "duration": 214,
    "start_time": "2022-10-02T22:48:12.455Z"
   },
   {
    "duration": 6,
    "start_time": "2022-10-02T22:48:12.671Z"
   },
   {
    "duration": 470,
    "start_time": "2022-10-02T22:48:12.678Z"
   },
   {
    "duration": 12,
    "start_time": "2022-10-02T22:48:13.150Z"
   },
   {
    "duration": 199,
    "start_time": "2022-10-02T22:48:13.165Z"
   },
   {
    "duration": 51,
    "start_time": "2022-10-02T22:48:13.366Z"
   },
   {
    "duration": 16,
    "start_time": "2022-10-02T22:48:13.419Z"
   },
   {
    "duration": 39,
    "start_time": "2022-10-02T23:26:45.578Z"
   },
   {
    "duration": 1622,
    "start_time": "2022-10-02T23:27:20.923Z"
   },
   {
    "duration": 12,
    "start_time": "2022-10-02T23:28:41.726Z"
   },
   {
    "duration": 5,
    "start_time": "2022-10-02T23:30:57.597Z"
   },
   {
    "duration": 5,
    "start_time": "2022-10-02T23:31:07.550Z"
   },
   {
    "duration": 1248,
    "start_time": "2022-10-02T23:31:29.867Z"
   },
   {
    "duration": 6,
    "start_time": "2022-10-02T23:31:42.971Z"
   },
   {
    "duration": 4,
    "start_time": "2022-10-02T23:32:07.981Z"
   },
   {
    "duration": 12,
    "start_time": "2022-10-02T23:32:24.460Z"
   },
   {
    "duration": 33,
    "start_time": "2022-10-02T23:32:43.526Z"
   },
   {
    "duration": 97,
    "start_time": "2022-10-03T11:05:30.803Z"
   },
   {
    "duration": 52,
    "start_time": "2022-10-03T11:05:41.834Z"
   },
   {
    "duration": 1570,
    "start_time": "2022-10-03T11:05:50.440Z"
   },
   {
    "duration": 14,
    "start_time": "2022-10-03T11:05:52.013Z"
   },
   {
    "duration": 22,
    "start_time": "2022-10-03T11:05:52.029Z"
   },
   {
    "duration": 18,
    "start_time": "2022-10-03T11:05:52.053Z"
   },
   {
    "duration": 11,
    "start_time": "2022-10-03T11:05:52.073Z"
   },
   {
    "duration": 36,
    "start_time": "2022-10-03T11:05:52.086Z"
   },
   {
    "duration": 18,
    "start_time": "2022-10-03T11:05:52.123Z"
   },
   {
    "duration": 12,
    "start_time": "2022-10-03T11:05:52.143Z"
   },
   {
    "duration": 12,
    "start_time": "2022-10-03T11:05:52.157Z"
   },
   {
    "duration": 209,
    "start_time": "2022-10-03T11:05:52.171Z"
   },
   {
    "duration": 147,
    "start_time": "2022-10-03T11:05:52.382Z"
   },
   {
    "duration": 12,
    "start_time": "2022-10-03T11:05:52.531Z"
   },
   {
    "duration": 18,
    "start_time": "2022-10-03T11:05:52.545Z"
   },
   {
    "duration": 325,
    "start_time": "2022-10-03T11:05:52.564Z"
   },
   {
    "duration": 241,
    "start_time": "2022-10-03T11:05:52.891Z"
   },
   {
    "duration": 323,
    "start_time": "2022-10-03T11:05:53.134Z"
   },
   {
    "duration": 7,
    "start_time": "2022-10-03T11:05:53.459Z"
   },
   {
    "duration": 272,
    "start_time": "2022-10-03T11:05:53.468Z"
   },
   {
    "duration": 10,
    "start_time": "2022-10-03T11:05:53.742Z"
   },
   {
    "duration": 408,
    "start_time": "2022-10-03T11:05:53.754Z"
   },
   {
    "duration": 10,
    "start_time": "2022-10-03T11:05:54.164Z"
   },
   {
    "duration": 178,
    "start_time": "2022-10-03T11:05:54.188Z"
   },
   {
    "duration": 4,
    "start_time": "2022-10-03T11:05:54.368Z"
   },
   {
    "duration": 196,
    "start_time": "2022-10-03T11:05:54.374Z"
   },
   {
    "duration": 5,
    "start_time": "2022-10-03T11:05:54.571Z"
   },
   {
    "duration": 429,
    "start_time": "2022-10-03T11:05:54.578Z"
   },
   {
    "duration": 13,
    "start_time": "2022-10-03T11:05:55.009Z"
   },
   {
    "duration": 176,
    "start_time": "2022-10-03T11:05:55.026Z"
   },
   {
    "duration": 32,
    "start_time": "2022-10-03T11:05:55.205Z"
   },
   {
    "duration": 15,
    "start_time": "2022-10-03T11:05:55.238Z"
   },
   {
    "duration": 20,
    "start_time": "2022-10-03T11:06:08.286Z"
   },
   {
    "duration": 4,
    "start_time": "2022-10-03T11:06:26.841Z"
   },
   {
    "duration": 14,
    "start_time": "2022-10-03T11:06:35.368Z"
   },
   {
    "duration": 12,
    "start_time": "2022-10-03T11:06:46.616Z"
   },
   {
    "duration": 17,
    "start_time": "2022-10-03T11:06:51.187Z"
   },
   {
    "duration": 138,
    "start_time": "2022-10-03T11:08:21.674Z"
   },
   {
    "duration": 293,
    "start_time": "2022-10-03T11:08:43.337Z"
   },
   {
    "duration": 304,
    "start_time": "2022-10-03T11:09:19.791Z"
   },
   {
    "duration": 230,
    "start_time": "2022-10-03T11:11:05.985Z"
   },
   {
    "duration": 83,
    "start_time": "2022-10-03T11:11:28.719Z"
   },
   {
    "duration": 147,
    "start_time": "2022-10-03T11:11:37.046Z"
   },
   {
    "duration": 6,
    "start_time": "2022-10-03T11:13:04.380Z"
   },
   {
    "duration": 1275,
    "start_time": "2022-10-03T11:14:02.944Z"
   },
   {
    "duration": 12,
    "start_time": "2022-10-03T11:14:04.221Z"
   },
   {
    "duration": 11,
    "start_time": "2022-10-03T11:14:04.235Z"
   },
   {
    "duration": 9,
    "start_time": "2022-10-03T11:14:04.249Z"
   },
   {
    "duration": 9,
    "start_time": "2022-10-03T11:14:04.259Z"
   },
   {
    "duration": 14,
    "start_time": "2022-10-03T11:14:04.270Z"
   },
   {
    "duration": 18,
    "start_time": "2022-10-03T11:14:04.286Z"
   },
   {
    "duration": 11,
    "start_time": "2022-10-03T11:14:04.306Z"
   },
   {
    "duration": 7,
    "start_time": "2022-10-03T11:14:04.319Z"
   },
   {
    "duration": 242,
    "start_time": "2022-10-03T11:14:04.329Z"
   },
   {
    "duration": 267,
    "start_time": "2022-10-03T11:14:04.573Z"
   },
   {
    "duration": 0,
    "start_time": "2022-10-03T11:14:04.842Z"
   },
   {
    "duration": 0,
    "start_time": "2022-10-03T11:14:04.843Z"
   },
   {
    "duration": 0,
    "start_time": "2022-10-03T11:14:04.844Z"
   },
   {
    "duration": 0,
    "start_time": "2022-10-03T11:14:04.845Z"
   },
   {
    "duration": 0,
    "start_time": "2022-10-03T11:14:04.846Z"
   },
   {
    "duration": 0,
    "start_time": "2022-10-03T11:14:04.847Z"
   },
   {
    "duration": 0,
    "start_time": "2022-10-03T11:14:04.849Z"
   },
   {
    "duration": 0,
    "start_time": "2022-10-03T11:14:04.850Z"
   },
   {
    "duration": 0,
    "start_time": "2022-10-03T11:14:04.851Z"
   },
   {
    "duration": 0,
    "start_time": "2022-10-03T11:14:04.852Z"
   },
   {
    "duration": 0,
    "start_time": "2022-10-03T11:14:04.853Z"
   },
   {
    "duration": 0,
    "start_time": "2022-10-03T11:14:04.854Z"
   },
   {
    "duration": 0,
    "start_time": "2022-10-03T11:14:04.855Z"
   },
   {
    "duration": 0,
    "start_time": "2022-10-03T11:14:04.856Z"
   },
   {
    "duration": 0,
    "start_time": "2022-10-03T11:14:04.857Z"
   },
   {
    "duration": 0,
    "start_time": "2022-10-03T11:14:04.858Z"
   },
   {
    "duration": 0,
    "start_time": "2022-10-03T11:14:04.859Z"
   },
   {
    "duration": 0,
    "start_time": "2022-10-03T11:14:04.860Z"
   },
   {
    "duration": 0,
    "start_time": "2022-10-03T11:14:04.861Z"
   },
   {
    "duration": 0,
    "start_time": "2022-10-03T11:14:04.861Z"
   },
   {
    "duration": 0,
    "start_time": "2022-10-03T11:14:04.862Z"
   },
   {
    "duration": 144,
    "start_time": "2022-10-03T11:14:46.421Z"
   },
   {
    "duration": 1296,
    "start_time": "2022-10-03T11:14:51.725Z"
   },
   {
    "duration": 12,
    "start_time": "2022-10-03T11:14:53.023Z"
   },
   {
    "duration": 9,
    "start_time": "2022-10-03T11:14:53.037Z"
   },
   {
    "duration": 12,
    "start_time": "2022-10-03T11:14:53.048Z"
   },
   {
    "duration": 13,
    "start_time": "2022-10-03T11:14:53.062Z"
   },
   {
    "duration": 24,
    "start_time": "2022-10-03T11:14:53.077Z"
   },
   {
    "duration": 17,
    "start_time": "2022-10-03T11:14:53.104Z"
   },
   {
    "duration": 7,
    "start_time": "2022-10-03T11:14:53.123Z"
   },
   {
    "duration": 7,
    "start_time": "2022-10-03T11:14:53.131Z"
   },
   {
    "duration": 233,
    "start_time": "2022-10-03T11:14:53.140Z"
   },
   {
    "duration": 177,
    "start_time": "2022-10-03T11:14:53.376Z"
   },
   {
    "duration": 224,
    "start_time": "2022-10-03T11:14:53.555Z"
   },
   {
    "duration": 162,
    "start_time": "2022-10-03T11:14:53.781Z"
   },
   {
    "duration": 12,
    "start_time": "2022-10-03T11:14:53.944Z"
   },
   {
    "duration": 11,
    "start_time": "2022-10-03T11:14:53.958Z"
   },
   {
    "duration": 385,
    "start_time": "2022-10-03T11:14:53.972Z"
   },
   {
    "duration": 268,
    "start_time": "2022-10-03T11:14:54.359Z"
   },
   {
    "duration": 308,
    "start_time": "2022-10-03T11:14:54.629Z"
   },
   {
    "duration": 6,
    "start_time": "2022-10-03T11:14:54.940Z"
   },
   {
    "duration": 275,
    "start_time": "2022-10-03T11:14:54.948Z"
   },
   {
    "duration": 9,
    "start_time": "2022-10-03T11:14:55.225Z"
   },
   {
    "duration": 369,
    "start_time": "2022-10-03T11:14:55.236Z"
   },
   {
    "duration": 14,
    "start_time": "2022-10-03T11:14:55.607Z"
   },
   {
    "duration": 195,
    "start_time": "2022-10-03T11:14:55.623Z"
   },
   {
    "duration": 6,
    "start_time": "2022-10-03T11:14:55.820Z"
   },
   {
    "duration": 208,
    "start_time": "2022-10-03T11:14:55.827Z"
   },
   {
    "duration": 6,
    "start_time": "2022-10-03T11:14:56.037Z"
   },
   {
    "duration": 463,
    "start_time": "2022-10-03T11:14:56.046Z"
   },
   {
    "duration": 12,
    "start_time": "2022-10-03T11:14:56.511Z"
   },
   {
    "duration": 199,
    "start_time": "2022-10-03T11:14:56.525Z"
   },
   {
    "duration": 29,
    "start_time": "2022-10-03T11:14:56.726Z"
   },
   {
    "duration": 32,
    "start_time": "2022-10-03T11:14:56.757Z"
   },
   {
    "duration": 104,
    "start_time": "2022-10-03T11:15:36.928Z"
   },
   {
    "duration": 9,
    "start_time": "2022-10-03T11:25:26.680Z"
   },
   {
    "duration": 8,
    "start_time": "2022-10-03T11:26:06.362Z"
   },
   {
    "duration": 49,
    "start_time": "2022-10-03T18:14:07.402Z"
   },
   {
    "duration": 1779,
    "start_time": "2022-10-03T18:14:18.201Z"
   },
   {
    "duration": 13,
    "start_time": "2022-10-03T18:14:19.982Z"
   },
   {
    "duration": 7,
    "start_time": "2022-10-03T18:14:19.997Z"
   },
   {
    "duration": 17,
    "start_time": "2022-10-03T18:14:20.006Z"
   },
   {
    "duration": 13,
    "start_time": "2022-10-03T18:14:20.025Z"
   },
   {
    "duration": 59,
    "start_time": "2022-10-03T18:14:20.040Z"
   },
   {
    "duration": 13,
    "start_time": "2022-10-03T18:14:20.101Z"
   },
   {
    "duration": 13,
    "start_time": "2022-10-03T18:14:20.115Z"
   },
   {
    "duration": 5,
    "start_time": "2022-10-03T18:14:20.130Z"
   },
   {
    "duration": 11,
    "start_time": "2022-10-03T18:14:20.138Z"
   },
   {
    "duration": 232,
    "start_time": "2022-10-03T18:14:20.151Z"
   },
   {
    "duration": 153,
    "start_time": "2022-10-03T18:14:20.385Z"
   },
   {
    "duration": 237,
    "start_time": "2022-10-03T18:14:20.539Z"
   },
   {
    "duration": 166,
    "start_time": "2022-10-03T18:14:20.778Z"
   },
   {
    "duration": 20,
    "start_time": "2022-10-03T18:14:20.946Z"
   },
   {
    "duration": 30,
    "start_time": "2022-10-03T18:14:20.968Z"
   },
   {
    "duration": 347,
    "start_time": "2022-10-03T18:14:21.000Z"
   },
   {
    "duration": 299,
    "start_time": "2022-10-03T18:14:21.349Z"
   },
   {
    "duration": 405,
    "start_time": "2022-10-03T18:14:21.650Z"
   },
   {
    "duration": 7,
    "start_time": "2022-10-03T18:14:22.057Z"
   },
   {
    "duration": 295,
    "start_time": "2022-10-03T18:14:22.066Z"
   },
   {
    "duration": 19,
    "start_time": "2022-10-03T18:14:22.364Z"
   },
   {
    "duration": 372,
    "start_time": "2022-10-03T18:14:22.387Z"
   },
   {
    "duration": 21,
    "start_time": "2022-10-03T18:14:22.761Z"
   },
   {
    "duration": 191,
    "start_time": "2022-10-03T18:14:22.784Z"
   },
   {
    "duration": 6,
    "start_time": "2022-10-03T18:14:22.980Z"
   },
   {
    "duration": 213,
    "start_time": "2022-10-03T18:14:22.989Z"
   },
   {
    "duration": 6,
    "start_time": "2022-10-03T18:14:23.206Z"
   },
   {
    "duration": 469,
    "start_time": "2022-10-03T18:14:23.214Z"
   },
   {
    "duration": 12,
    "start_time": "2022-10-03T18:14:23.685Z"
   },
   {
    "duration": 167,
    "start_time": "2022-10-03T18:14:23.699Z"
   },
   {
    "duration": 39,
    "start_time": "2022-10-03T18:14:23.869Z"
   },
   {
    "duration": 15,
    "start_time": "2022-10-03T18:14:23.910Z"
   },
   {
    "duration": 8,
    "start_time": "2022-10-03T18:14:50.908Z"
   },
   {
    "duration": 8,
    "start_time": "2022-10-03T18:15:12.898Z"
   },
   {
    "duration": 10,
    "start_time": "2022-10-03T18:15:15.849Z"
   },
   {
    "duration": 80,
    "start_time": "2022-10-03T18:22:14.717Z"
   },
   {
    "duration": 6,
    "start_time": "2022-10-03T18:22:22.182Z"
   },
   {
    "duration": 8,
    "start_time": "2022-10-03T18:23:21.674Z"
   },
   {
    "duration": 7,
    "start_time": "2022-10-03T18:27:32.287Z"
   },
   {
    "duration": 8,
    "start_time": "2022-10-03T18:28:37.884Z"
   },
   {
    "duration": 4,
    "start_time": "2022-10-03T18:28:52.118Z"
   },
   {
    "duration": 6,
    "start_time": "2022-10-03T18:34:59.409Z"
   },
   {
    "duration": 12,
    "start_time": "2022-10-03T18:37:24.441Z"
   },
   {
    "duration": 11,
    "start_time": "2022-10-03T18:37:28.106Z"
   },
   {
    "duration": 14,
    "start_time": "2022-10-03T18:37:37.377Z"
   },
   {
    "duration": 1241,
    "start_time": "2022-10-03T18:37:45.478Z"
   },
   {
    "duration": 12,
    "start_time": "2022-10-03T18:37:46.721Z"
   },
   {
    "duration": 11,
    "start_time": "2022-10-03T18:37:46.735Z"
   },
   {
    "duration": 36,
    "start_time": "2022-10-03T18:37:46.748Z"
   },
   {
    "duration": 25,
    "start_time": "2022-10-03T18:37:46.789Z"
   },
   {
    "duration": 17,
    "start_time": "2022-10-03T18:37:46.816Z"
   },
   {
    "duration": 34,
    "start_time": "2022-10-03T18:37:46.835Z"
   },
   {
    "duration": 26,
    "start_time": "2022-10-03T18:37:46.876Z"
   },
   {
    "duration": 13,
    "start_time": "2022-10-03T18:37:46.904Z"
   },
   {
    "duration": 9,
    "start_time": "2022-10-03T18:37:46.919Z"
   },
   {
    "duration": 11,
    "start_time": "2022-10-03T18:37:46.929Z"
   },
   {
    "duration": 15,
    "start_time": "2022-10-03T18:37:46.942Z"
   },
   {
    "duration": 255,
    "start_time": "2022-10-03T18:37:46.958Z"
   },
   {
    "duration": 145,
    "start_time": "2022-10-03T18:37:47.217Z"
   },
   {
    "duration": 21,
    "start_time": "2022-10-03T18:37:47.364Z"
   },
   {
    "duration": 10,
    "start_time": "2022-10-03T18:37:47.387Z"
   },
   {
    "duration": 349,
    "start_time": "2022-10-03T18:37:47.399Z"
   },
   {
    "duration": 266,
    "start_time": "2022-10-03T18:37:47.750Z"
   },
   {
    "duration": 383,
    "start_time": "2022-10-03T18:37:48.018Z"
   },
   {
    "duration": 6,
    "start_time": "2022-10-03T18:37:48.403Z"
   },
   {
    "duration": 372,
    "start_time": "2022-10-03T18:37:48.411Z"
   },
   {
    "duration": 9,
    "start_time": "2022-10-03T18:37:48.788Z"
   },
   {
    "duration": 342,
    "start_time": "2022-10-03T18:37:48.798Z"
   },
   {
    "duration": 19,
    "start_time": "2022-10-03T18:37:49.142Z"
   },
   {
    "duration": 180,
    "start_time": "2022-10-03T18:37:49.164Z"
   },
   {
    "duration": 14,
    "start_time": "2022-10-03T18:37:49.345Z"
   },
   {
    "duration": 216,
    "start_time": "2022-10-03T18:37:49.366Z"
   },
   {
    "duration": 10,
    "start_time": "2022-10-03T18:37:49.587Z"
   },
   {
    "duration": 435,
    "start_time": "2022-10-03T18:37:49.599Z"
   },
   {
    "duration": 25,
    "start_time": "2022-10-03T18:37:50.036Z"
   },
   {
    "duration": 191,
    "start_time": "2022-10-03T18:37:50.068Z"
   },
   {
    "duration": 42,
    "start_time": "2022-10-03T18:37:50.261Z"
   },
   {
    "duration": 18,
    "start_time": "2022-10-03T18:37:50.305Z"
   },
   {
    "duration": 50,
    "start_time": "2022-10-03T18:42:01.782Z"
   },
   {
    "duration": 90,
    "start_time": "2022-10-03T18:47:21.082Z"
   },
   {
    "duration": 172,
    "start_time": "2022-10-03T18:48:46.417Z"
   },
   {
    "duration": 260,
    "start_time": "2022-10-03T18:50:13.451Z"
   },
   {
    "duration": 172,
    "start_time": "2022-10-03T18:50:56.273Z"
   },
   {
    "duration": 137,
    "start_time": "2022-10-03T18:55:02.212Z"
   },
   {
    "duration": 123,
    "start_time": "2022-10-03T18:55:14.033Z"
   },
   {
    "duration": 134,
    "start_time": "2022-10-03T18:55:28.085Z"
   },
   {
    "duration": 131,
    "start_time": "2022-10-03T18:55:34.530Z"
   },
   {
    "duration": 865,
    "start_time": "2022-10-03T18:56:17.376Z"
   },
   {
    "duration": 8,
    "start_time": "2022-10-03T18:56:31.225Z"
   },
   {
    "duration": 1257,
    "start_time": "2022-10-03T18:56:45.742Z"
   },
   {
    "duration": 11,
    "start_time": "2022-10-03T18:56:47.001Z"
   },
   {
    "duration": 20,
    "start_time": "2022-10-03T18:56:47.014Z"
   },
   {
    "duration": 21,
    "start_time": "2022-10-03T18:56:47.036Z"
   },
   {
    "duration": 32,
    "start_time": "2022-10-03T18:56:47.058Z"
   },
   {
    "duration": 16,
    "start_time": "2022-10-03T18:56:47.091Z"
   },
   {
    "duration": 26,
    "start_time": "2022-10-03T18:56:47.108Z"
   },
   {
    "duration": 23,
    "start_time": "2022-10-03T18:56:47.136Z"
   },
   {
    "duration": 10,
    "start_time": "2022-10-03T18:56:47.160Z"
   },
   {
    "duration": 13,
    "start_time": "2022-10-03T18:56:47.173Z"
   },
   {
    "duration": 18,
    "start_time": "2022-10-03T18:56:47.188Z"
   },
   {
    "duration": 24,
    "start_time": "2022-10-03T18:56:47.208Z"
   },
   {
    "duration": 204,
    "start_time": "2022-10-03T18:56:47.234Z"
   },
   {
    "duration": 139,
    "start_time": "2022-10-03T18:56:47.441Z"
   },
   {
    "duration": 14,
    "start_time": "2022-10-03T18:56:47.583Z"
   },
   {
    "duration": 11,
    "start_time": "2022-10-03T18:56:47.599Z"
   },
   {
    "duration": 317,
    "start_time": "2022-10-03T18:56:47.612Z"
   },
   {
    "duration": 225,
    "start_time": "2022-10-03T18:56:47.931Z"
   },
   {
    "duration": 316,
    "start_time": "2022-10-03T18:56:48.158Z"
   },
   {
    "duration": 7,
    "start_time": "2022-10-03T18:56:48.475Z"
   },
   {
    "duration": 265,
    "start_time": "2022-10-03T18:56:48.483Z"
   },
   {
    "duration": 11,
    "start_time": "2022-10-03T18:56:48.750Z"
   },
   {
    "duration": 345,
    "start_time": "2022-10-03T18:56:48.763Z"
   },
   {
    "duration": 13,
    "start_time": "2022-10-03T18:56:49.110Z"
   },
   {
    "duration": 181,
    "start_time": "2022-10-03T18:56:49.125Z"
   },
   {
    "duration": 6,
    "start_time": "2022-10-03T18:56:49.308Z"
   },
   {
    "duration": 215,
    "start_time": "2022-10-03T18:56:49.316Z"
   },
   {
    "duration": 7,
    "start_time": "2022-10-03T18:56:49.534Z"
   },
   {
    "duration": 874,
    "start_time": "2022-10-03T18:56:49.542Z"
   },
   {
    "duration": 0,
    "start_time": "2022-10-03T18:56:50.417Z"
   },
   {
    "duration": 0,
    "start_time": "2022-10-03T18:56:50.419Z"
   },
   {
    "duration": 0,
    "start_time": "2022-10-03T18:56:50.420Z"
   },
   {
    "duration": 0,
    "start_time": "2022-10-03T18:56:50.421Z"
   },
   {
    "duration": 0,
    "start_time": "2022-10-03T18:56:50.422Z"
   },
   {
    "duration": 0,
    "start_time": "2022-10-03T18:56:50.423Z"
   },
   {
    "duration": 0,
    "start_time": "2022-10-03T18:56:50.424Z"
   },
   {
    "duration": 912,
    "start_time": "2022-10-03T18:57:22.852Z"
   },
   {
    "duration": 125,
    "start_time": "2022-10-03T18:57:44.196Z"
   },
   {
    "duration": 144,
    "start_time": "2022-10-03T18:58:08.553Z"
   },
   {
    "duration": 236,
    "start_time": "2022-10-03T18:58:15.939Z"
   },
   {
    "duration": 157,
    "start_time": "2022-10-03T18:58:25.540Z"
   },
   {
    "duration": 150,
    "start_time": "2022-10-03T18:58:55.616Z"
   },
   {
    "duration": 164,
    "start_time": "2022-10-03T18:59:28.776Z"
   },
   {
    "duration": 141,
    "start_time": "2022-10-03T19:00:11.923Z"
   },
   {
    "duration": 164,
    "start_time": "2022-10-03T19:05:51.407Z"
   },
   {
    "duration": 10,
    "start_time": "2022-10-03T19:07:17.592Z"
   },
   {
    "duration": 13,
    "start_time": "2022-10-03T19:07:53.184Z"
   },
   {
    "duration": 15,
    "start_time": "2022-10-03T19:08:25.247Z"
   },
   {
    "duration": 303,
    "start_time": "2022-10-03T19:08:31.987Z"
   },
   {
    "duration": 1289,
    "start_time": "2022-10-03T19:12:21.571Z"
   },
   {
    "duration": 19,
    "start_time": "2022-10-03T19:12:22.863Z"
   },
   {
    "duration": 12,
    "start_time": "2022-10-03T19:12:22.884Z"
   },
   {
    "duration": 24,
    "start_time": "2022-10-03T19:12:22.898Z"
   },
   {
    "duration": 28,
    "start_time": "2022-10-03T19:12:22.924Z"
   },
   {
    "duration": 18,
    "start_time": "2022-10-03T19:12:22.954Z"
   },
   {
    "duration": 32,
    "start_time": "2022-10-03T19:12:22.974Z"
   },
   {
    "duration": 29,
    "start_time": "2022-10-03T19:12:23.007Z"
   },
   {
    "duration": 42,
    "start_time": "2022-10-03T19:12:23.038Z"
   },
   {
    "duration": 32,
    "start_time": "2022-10-03T19:12:23.083Z"
   },
   {
    "duration": 19,
    "start_time": "2022-10-03T19:12:23.117Z"
   },
   {
    "duration": 21,
    "start_time": "2022-10-03T19:12:23.137Z"
   },
   {
    "duration": 226,
    "start_time": "2022-10-03T19:12:23.160Z"
   },
   {
    "duration": 143,
    "start_time": "2022-10-03T19:12:23.388Z"
   },
   {
    "duration": 25,
    "start_time": "2022-10-03T19:12:23.532Z"
   },
   {
    "duration": 26,
    "start_time": "2022-10-03T19:12:23.558Z"
   },
   {
    "duration": 346,
    "start_time": "2022-10-03T19:12:23.586Z"
   },
   {
    "duration": 257,
    "start_time": "2022-10-03T19:12:23.934Z"
   },
   {
    "duration": 322,
    "start_time": "2022-10-03T19:12:24.194Z"
   },
   {
    "duration": 7,
    "start_time": "2022-10-03T19:12:24.518Z"
   },
   {
    "duration": 285,
    "start_time": "2022-10-03T19:12:24.527Z"
   },
   {
    "duration": 10,
    "start_time": "2022-10-03T19:12:24.814Z"
   },
   {
    "duration": 420,
    "start_time": "2022-10-03T19:12:24.826Z"
   },
   {
    "duration": 17,
    "start_time": "2022-10-03T19:12:25.247Z"
   },
   {
    "duration": 183,
    "start_time": "2022-10-03T19:12:25.265Z"
   },
   {
    "duration": 8,
    "start_time": "2022-10-03T19:12:25.450Z"
   },
   {
    "duration": 252,
    "start_time": "2022-10-03T19:12:25.461Z"
   },
   {
    "duration": 193,
    "start_time": "2022-10-03T19:12:25.716Z"
   },
   {
    "duration": 11,
    "start_time": "2022-10-03T19:12:25.910Z"
   },
   {
    "duration": 408,
    "start_time": "2022-10-03T19:12:25.924Z"
   },
   {
    "duration": 26,
    "start_time": "2022-10-03T19:12:26.334Z"
   },
   {
    "duration": 178,
    "start_time": "2022-10-03T19:12:26.362Z"
   },
   {
    "duration": 37,
    "start_time": "2022-10-03T19:12:26.553Z"
   },
   {
    "duration": 13,
    "start_time": "2022-10-03T19:12:26.592Z"
   },
   {
    "duration": 182,
    "start_time": "2022-10-03T19:13:55.969Z"
   },
   {
    "duration": 295,
    "start_time": "2022-10-03T19:14:02.706Z"
   },
   {
    "duration": 212,
    "start_time": "2022-10-03T19:14:06.703Z"
   },
   {
    "duration": 244,
    "start_time": "2022-10-03T19:14:31.536Z"
   },
   {
    "duration": 194,
    "start_time": "2022-10-03T19:15:12.853Z"
   },
   {
    "duration": 201,
    "start_time": "2022-10-03T19:15:26.717Z"
   },
   {
    "duration": 147,
    "start_time": "2022-10-03T19:17:08.056Z"
   },
   {
    "duration": 302,
    "start_time": "2022-10-03T19:18:35.914Z"
   },
   {
    "duration": 197,
    "start_time": "2022-10-03T19:18:47.783Z"
   },
   {
    "duration": 172,
    "start_time": "2022-10-03T19:19:02.822Z"
   },
   {
    "duration": 189,
    "start_time": "2022-10-03T19:19:13.677Z"
   },
   {
    "duration": 149,
    "start_time": "2022-10-03T19:19:18.936Z"
   },
   {
    "duration": 143,
    "start_time": "2022-10-03T19:19:32.768Z"
   },
   {
    "duration": 228,
    "start_time": "2022-10-03T19:19:43.173Z"
   },
   {
    "duration": 317,
    "start_time": "2022-10-03T19:19:53.674Z"
   },
   {
    "duration": 97,
    "start_time": "2022-10-03T19:20:15.758Z"
   },
   {
    "duration": 125,
    "start_time": "2022-10-03T19:21:12.506Z"
   },
   {
    "duration": 130,
    "start_time": "2022-10-03T19:21:47.033Z"
   },
   {
    "duration": 179,
    "start_time": "2022-10-03T19:22:21.475Z"
   },
   {
    "duration": 362,
    "start_time": "2022-10-03T19:23:43.885Z"
   },
   {
    "duration": 58,
    "start_time": "2022-10-03T19:37:39.268Z"
   },
   {
    "duration": 1250,
    "start_time": "2022-10-03T19:43:28.979Z"
   },
   {
    "duration": 16,
    "start_time": "2022-10-03T19:43:30.232Z"
   },
   {
    "duration": 62,
    "start_time": "2022-10-03T19:43:30.249Z"
   },
   {
    "duration": 37,
    "start_time": "2022-10-03T19:43:30.313Z"
   },
   {
    "duration": 67,
    "start_time": "2022-10-03T19:43:30.352Z"
   },
   {
    "duration": 43,
    "start_time": "2022-10-03T19:43:30.421Z"
   },
   {
    "duration": 64,
    "start_time": "2022-10-03T19:43:30.466Z"
   },
   {
    "duration": 63,
    "start_time": "2022-10-03T19:43:30.532Z"
   },
   {
    "duration": 112,
    "start_time": "2022-10-03T19:43:30.598Z"
   },
   {
    "duration": 33,
    "start_time": "2022-10-03T19:43:30.713Z"
   },
   {
    "duration": 90,
    "start_time": "2022-10-03T19:43:30.747Z"
   },
   {
    "duration": 73,
    "start_time": "2022-10-03T19:43:30.839Z"
   },
   {
    "duration": 290,
    "start_time": "2022-10-03T19:43:30.914Z"
   },
   {
    "duration": 146,
    "start_time": "2022-10-03T19:43:31.208Z"
   },
   {
    "duration": 16,
    "start_time": "2022-10-03T19:43:31.355Z"
   },
   {
    "duration": 58,
    "start_time": "2022-10-03T19:43:31.373Z"
   },
   {
    "duration": 495,
    "start_time": "2022-10-03T19:43:31.434Z"
   },
   {
    "duration": 289,
    "start_time": "2022-10-03T19:43:31.931Z"
   },
   {
    "duration": 325,
    "start_time": "2022-10-03T19:43:32.222Z"
   },
   {
    "duration": 14,
    "start_time": "2022-10-03T19:43:32.549Z"
   },
   {
    "duration": 340,
    "start_time": "2022-10-03T19:43:32.566Z"
   },
   {
    "duration": 9,
    "start_time": "2022-10-03T19:43:32.908Z"
   },
   {
    "duration": 427,
    "start_time": "2022-10-03T19:43:32.919Z"
   },
   {
    "duration": 22,
    "start_time": "2022-10-03T19:43:33.348Z"
   },
   {
    "duration": 181,
    "start_time": "2022-10-03T19:43:33.372Z"
   },
   {
    "duration": 7,
    "start_time": "2022-10-03T19:43:33.559Z"
   },
   {
    "duration": 223,
    "start_time": "2022-10-03T19:43:33.568Z"
   },
   {
    "duration": 181,
    "start_time": "2022-10-03T19:43:33.793Z"
   },
   {
    "duration": 8,
    "start_time": "2022-10-03T19:43:33.976Z"
   },
   {
    "duration": 413,
    "start_time": "2022-10-03T19:43:33.986Z"
   },
   {
    "duration": 11,
    "start_time": "2022-10-03T19:43:34.400Z"
   },
   {
    "duration": 164,
    "start_time": "2022-10-03T19:43:34.413Z"
   },
   {
    "duration": 30,
    "start_time": "2022-10-03T19:43:34.580Z"
   },
   {
    "duration": 15,
    "start_time": "2022-10-03T19:43:34.612Z"
   },
   {
    "duration": 1364,
    "start_time": "2022-10-04T07:44:42.169Z"
   },
   {
    "duration": 11,
    "start_time": "2022-10-04T07:44:43.535Z"
   },
   {
    "duration": 17,
    "start_time": "2022-10-04T07:44:43.548Z"
   },
   {
    "duration": 15,
    "start_time": "2022-10-04T07:44:43.566Z"
   },
   {
    "duration": 7,
    "start_time": "2022-10-04T07:44:43.583Z"
   },
   {
    "duration": 10,
    "start_time": "2022-10-04T07:44:43.592Z"
   },
   {
    "duration": 12,
    "start_time": "2022-10-04T07:44:43.604Z"
   },
   {
    "duration": 10,
    "start_time": "2022-10-04T07:44:43.617Z"
   },
   {
    "duration": 7,
    "start_time": "2022-10-04T07:44:43.629Z"
   },
   {
    "duration": 6,
    "start_time": "2022-10-04T07:44:43.637Z"
   },
   {
    "duration": 14,
    "start_time": "2022-10-04T07:44:43.644Z"
   },
   {
    "duration": 8,
    "start_time": "2022-10-04T07:44:43.659Z"
   },
   {
    "duration": 184,
    "start_time": "2022-10-04T07:44:43.668Z"
   },
   {
    "duration": 112,
    "start_time": "2022-10-04T07:44:43.854Z"
   },
   {
    "duration": 10,
    "start_time": "2022-10-04T07:44:43.968Z"
   },
   {
    "duration": 11,
    "start_time": "2022-10-04T07:44:43.979Z"
   },
   {
    "duration": 267,
    "start_time": "2022-10-04T07:44:43.991Z"
   },
   {
    "duration": 195,
    "start_time": "2022-10-04T07:44:44.259Z"
   },
   {
    "duration": 305,
    "start_time": "2022-10-04T07:44:44.455Z"
   },
   {
    "duration": 6,
    "start_time": "2022-10-04T07:44:44.761Z"
   },
   {
    "duration": 207,
    "start_time": "2022-10-04T07:44:44.768Z"
   },
   {
    "duration": 8,
    "start_time": "2022-10-04T07:44:44.976Z"
   },
   {
    "duration": 314,
    "start_time": "2022-10-04T07:44:44.985Z"
   },
   {
    "duration": 9,
    "start_time": "2022-10-04T07:44:45.300Z"
   },
   {
    "duration": 148,
    "start_time": "2022-10-04T07:44:45.311Z"
   },
   {
    "duration": 5,
    "start_time": "2022-10-04T07:44:45.460Z"
   },
   {
    "duration": 186,
    "start_time": "2022-10-04T07:44:45.467Z"
   },
   {
    "duration": 132,
    "start_time": "2022-10-04T07:44:45.655Z"
   },
   {
    "duration": 5,
    "start_time": "2022-10-04T07:44:45.789Z"
   },
   {
    "duration": 371,
    "start_time": "2022-10-04T07:44:45.796Z"
   },
   {
    "duration": 9,
    "start_time": "2022-10-04T07:44:46.168Z"
   },
   {
    "duration": 143,
    "start_time": "2022-10-04T07:44:46.178Z"
   },
   {
    "duration": 24,
    "start_time": "2022-10-04T07:44:46.323Z"
   },
   {
    "duration": 12,
    "start_time": "2022-10-04T07:44:46.348Z"
   },
   {
    "duration": 4,
    "start_time": "2022-10-04T07:47:11.695Z"
   },
   {
    "duration": 7,
    "start_time": "2022-10-04T07:47:18.029Z"
   },
   {
    "duration": 1426,
    "start_time": "2022-10-04T17:16:24.739Z"
   },
   {
    "duration": 10,
    "start_time": "2022-10-04T17:16:26.167Z"
   },
   {
    "duration": 10,
    "start_time": "2022-10-04T17:16:26.179Z"
   },
   {
    "duration": 12,
    "start_time": "2022-10-04T17:16:26.191Z"
   },
   {
    "duration": 12,
    "start_time": "2022-10-04T17:16:26.204Z"
   },
   {
    "duration": 7,
    "start_time": "2022-10-04T17:16:26.218Z"
   },
   {
    "duration": 13,
    "start_time": "2022-10-04T17:16:26.227Z"
   },
   {
    "duration": 10,
    "start_time": "2022-10-04T17:16:26.242Z"
   },
   {
    "duration": 5,
    "start_time": "2022-10-04T17:16:26.254Z"
   },
   {
    "duration": 5,
    "start_time": "2022-10-04T17:16:26.262Z"
   },
   {
    "duration": 7,
    "start_time": "2022-10-04T17:16:26.268Z"
   },
   {
    "duration": 8,
    "start_time": "2022-10-04T17:16:26.276Z"
   },
   {
    "duration": 216,
    "start_time": "2022-10-04T17:16:26.286Z"
   },
   {
    "duration": 125,
    "start_time": "2022-10-04T17:16:26.504Z"
   },
   {
    "duration": 18,
    "start_time": "2022-10-04T17:16:26.631Z"
   },
   {
    "duration": 9,
    "start_time": "2022-10-04T17:16:26.651Z"
   },
   {
    "duration": 329,
    "start_time": "2022-10-04T17:16:26.662Z"
   },
   {
    "duration": 223,
    "start_time": "2022-10-04T17:16:26.993Z"
   },
   {
    "duration": 394,
    "start_time": "2022-10-04T17:16:27.218Z"
   },
   {
    "duration": 6,
    "start_time": "2022-10-04T17:16:27.614Z"
   },
   {
    "duration": 259,
    "start_time": "2022-10-04T17:16:27.622Z"
   },
   {
    "duration": 8,
    "start_time": "2022-10-04T17:16:27.883Z"
   },
   {
    "duration": 357,
    "start_time": "2022-10-04T17:16:27.892Z"
   },
   {
    "duration": 11,
    "start_time": "2022-10-04T17:16:28.251Z"
   },
   {
    "duration": 197,
    "start_time": "2022-10-04T17:16:28.263Z"
   },
   {
    "duration": 5,
    "start_time": "2022-10-04T17:16:28.462Z"
   },
   {
    "duration": 230,
    "start_time": "2022-10-04T17:16:28.469Z"
   },
   {
    "duration": 151,
    "start_time": "2022-10-04T17:16:28.702Z"
   },
   {
    "duration": 5,
    "start_time": "2022-10-04T17:16:28.855Z"
   },
   {
    "duration": 396,
    "start_time": "2022-10-04T17:16:28.862Z"
   },
   {
    "duration": 11,
    "start_time": "2022-10-04T17:16:29.261Z"
   },
   {
    "duration": 180,
    "start_time": "2022-10-04T17:16:29.275Z"
   },
   {
    "duration": 30,
    "start_time": "2022-10-04T17:16:29.457Z"
   },
   {
    "duration": 15,
    "start_time": "2022-10-04T17:16:29.489Z"
   }
  ],
  "kernelspec": {
   "display_name": "Python 3 (ipykernel)",
   "language": "python",
   "name": "python3"
  },
  "language_info": {
   "codemirror_mode": {
    "name": "ipython",
    "version": 3
   },
   "file_extension": ".py",
   "mimetype": "text/x-python",
   "name": "python",
   "nbconvert_exporter": "python",
   "pygments_lexer": "ipython3",
   "version": "3.9.5"
  },
  "toc": {
   "base_numbering": 1,
   "nav_menu": {},
   "number_sections": true,
   "sideBar": true,
   "skip_h1_title": true,
   "title_cell": "Table of Contents",
   "title_sidebar": "Contents",
   "toc_cell": false,
   "toc_position": {},
   "toc_section_display": true,
   "toc_window_display": false
  }
 },
 "nbformat": 4,
 "nbformat_minor": 2
}
